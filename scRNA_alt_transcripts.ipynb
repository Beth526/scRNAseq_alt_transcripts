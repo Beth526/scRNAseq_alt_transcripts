{
 "cells": [
  {
   "cell_type": "code",
   "execution_count": 1,
   "metadata": {},
   "outputs": [],
   "source": [
    "import os, pickle, h5py, re\n",
    "import pandas as pd\n",
    "import numpy as np\n",
    "from sklearn.mixture import BayesianGaussianMixture\n",
    "from collections import defaultdict"
   ]
  },
  {
   "cell_type": "code",
   "execution_count": 2,
   "metadata": {},
   "outputs": [],
   "source": [
    "os.environ['PATH'] = '/opt/anaconda3/bin:/opt/anaconda3/condabin:/usr/local/bin:/usr/bin:/bin:/usr/sbin:/sbin'"
   ]
  },
  {
   "cell_type": "code",
   "execution_count": 9,
   "metadata": {},
   "outputs": [],
   "source": [
    "def get_top_genes_and_barcodes_list(file_name, n_genes=100):\n",
    "    ''' Takes a 10x .h5 file and a number of genes (n) and returns a list of the top n expressed genes by counts'''\n",
    "    dset = h5py.File(file_name, 'r')\n",
    "    dset = dset['matrix']\n",
    "    indices = dset['indices']\n",
    "    data = dset['data']\n",
    "    features = dset['features']\n",
    "    ids = features['id']\n",
    "    names = features['name']\n",
    "    barcodes = pd.Series(dset['barcodes'][()]).astype('str').str.replace('b','').str.replace(\"'\",'')\n",
    "    \n",
    "    counts = pd.DataFrame({'count':data,'gene':indices})\n",
    "    counts = counts.groupby('gene').sum().reset_index()\n",
    "    \n",
    "    ensembl = pd.DataFrame({'ids':ids,'names':names})\n",
    "    ensembl = ensembl.apply(lambda x: x.astype('str').str.replace('b','')).reset_index()\n",
    "    \n",
    "    temp = pd.merge(left=counts,right=ensembl,how=\"left\",left_on='gene',right_on='index')\n",
    "    top_genes = temp.sort_values('count',ascending=False).reset_index()[['count','ids','names']].head(n_genes)\n",
    "    \n",
    "    return top_genes, barcodes"
   ]
  },
  {
   "cell_type": "code",
   "execution_count": 98,
   "metadata": {},
   "outputs": [],
   "source": [
    "def gtf_top_genes(top_genes, gtf_file):\n",
    "    ''' Takes a list of genes and ensembl gtf file and makes a data frame that has a \n",
    "    column for chromosome, strand and a column that contains a set of all the genomic positions inside exons\n",
    "    This is slow\n",
    "    '''\n",
    "    exon_list=[]\n",
    "    chrom_list=[]\n",
    "    strand_list=[]\n",
    "    for i in top_genes['ids']:\n",
    "        print(i)\n",
    "        ensembl = !grep $i $gtf_file | cut -f1,3,4,5,7\n",
    "        try:\n",
    "            exons = list(map(lambda x: ('\\texon') in x, ensembl))\n",
    "            ensembl = np.array(ensembl)\n",
    "            ensembl = ensembl[exons]\n",
    "            chrom = re.findall('(chr[^\\t]*)',ensembl[0])[0]\n",
    "            temp = list(map(lambda x: set(x), map(lambda x: range(int(re.findall('\\t([0-9]*)',x)[1]),\\\n",
    "                                                      int(re.findall('\\t([0-9]*)',x)[2])), ensembl)))\n",
    "            exons = list(set([i for i in temp for i in i]))\n",
    "            exon_list.append(exons)\n",
    "            chrom_list.append(chrom)\n",
    "            strand = ensembl[0][-1]\n",
    "            strand_list.append(strand)\n",
    "        except: #in case id is not in gtf for some reason\n",
    "            exon_list.append(0)\n",
    "            chrom_list.append(0)\n",
    "            strand_list.append(0)\n",
    "            \n",
    "    df  = pd.DataFrame({'gene_id':top_genes['ids'], 'name':top_genes['names'], 'chrom':chrom_list, 'exons':exon_list, 'strand':strand_list})\n",
    "    df = df[df['chrom'] != 0] \n",
    "    return df"
   ]
  },
  {
   "cell_type": "code",
   "execution_count": 73,
   "metadata": {},
   "outputs": [],
   "source": [
    "def samtools_view(df, filtered_barcodes, bam_file): \n",
    "    ''' Takes a df from gtf_top_genes and finds all reads that start between the first exon position and the last. \n",
    "    Makes a column for all of the cell barcodes and a column for all the read end positions relative to the first exon position.\n",
    "    '''\n",
    "    df = df.reset_index()\n",
    "    read_stops_list_of_list=[]\n",
    "    barcodes_list_of_list = []\n",
    "    for i in range(len(df)):\n",
    "        if df.loc[i,'strand'] == \"+\":\n",
    "            print(i)\n",
    "            chrom = df.loc[i,'chrom']\n",
    "            start = min(df.loc[i, 'exons'])\n",
    "            stop = max(df.loc[i, 'exons'])\n",
    "            view = !samtools view $bam_file $chrom:$start-$stop\n",
    "\n",
    "            print('parsing view')\n",
    "            umi = list(map(lambda x: re.findall('UB:Z:([A-Z]+)', x),view))\n",
    "            barcodes = list(map(lambda x: re.findall('CB:Z:([A-Z]+-[0-9]+)', x),view))\n",
    "            read_strand = list(map(lambda x: x.split('\\t')[1],view))\n",
    "            read_starts = list(map(lambda x: x.split('\\t')[3],view))\n",
    "            cigars = list(map(lambda x: x.split('\\t')[5],view))\n",
    "            cigars = list(map(lambda x: re.findall('[0-9]+', x), cigars))\n",
    "            cigars = list(map(lambda x: sum([int(s) for s in x]), cigars))\n",
    "            read_stops = np.array(list(map(int,read_starts))) + np.array(cigars)\n",
    "            print('making test')\n",
    "\n",
    "            test = pd.DataFrame({'umi':umi,'read_starts':read_starts,'read_strand':read_strand,'barcodes':barcodes,'read_stops':read_stops})\n",
    "            test = test[test['read_strand']=='0']\n",
    "            test = test[list(map(lambda x: len(x) != 0, test['umi']))]\n",
    "            test = test[list(map(lambda x: len(x) != 0, test['barcodes']))]\n",
    "            test['umi'] = list(map(lambda x: x[0], test['umi']))\n",
    "            test['barcodes'] = list(map(lambda x: x[0], test['barcodes']))\n",
    "            test = test[test['barcodes'].isin(filtered_barcodes)]\n",
    "            test = test.sort_values(by=['umi','read_starts'])\n",
    "            test = test.drop_duplicates('umi', keep='first')\n",
    "            print('appending_list')\n",
    "\n",
    "            read_stops_list_of_list.append(list(test['read_stops']))\n",
    "            barcodes_list_of_list.append(list(test['barcodes']))\n",
    "            \n",
    "        if df.loc[i,'strand'] == \"-\":\n",
    "            print(i)\n",
    "            chrom = df.loc[i,'chrom']\n",
    "            actual_start = min(df.loc[i, 'exons']) \n",
    "            start = min(df.loc[i, 'exons']) - 300000\n",
    "            stop = max(df.loc[i, 'exons'])\n",
    "            view = !samtools view $bam_file $chrom:$start-$stop\n",
    "\n",
    "            print('parsing view')\n",
    "            umi = list(map(lambda x: re.findall('UB:Z:([A-Z]+)', x),view))\n",
    "            barcodes = list(map(lambda x: re.findall('CB:Z:([A-Z]+-[0-9]+)', x),view))\n",
    "            read_strand = list(map(lambda x: x.split('\\t')[1],view))\n",
    "            read_starts = list(map(lambda x: x.split('\\t')[3],view))\n",
    "            cigars = list(map(lambda x: x.split('\\t')[5],view))\n",
    "            cigars = list(map(lambda x: re.findall('[0-9]+', x), cigars))\n",
    "            cigars = list(map(lambda x: sum([int(s) for s in x]), cigars))\n",
    "            read_stops = np.array(list(map(int,read_starts))) + np.array(cigars)\n",
    "\n",
    "            print('making test')\n",
    "            test = pd.DataFrame({'umi':umi,'read_starts':read_starts,'read_strand':read_strand,'barcodes':barcodes,'read_stops':read_stops})\n",
    "            test = test[test['read_strand']=='16']\n",
    "            test = test[(test['read_stops'] > actual_start) & (test['read_stops'] < stop)]\n",
    "            test = test[list(map(lambda x: len(x) != 0, test['umi']))]\n",
    "            test = test[list(map(lambda x: len(x) != 0, test['barcodes']))]\n",
    "            test['umi'] = list(map(lambda x: x[0], test['umi']))\n",
    "            test['barcodes'] = list(map(lambda x: x[0], test['barcodes']))\n",
    "            test = test[test['barcodes'].isin(filtered_barcodes)]\n",
    "            test = test.sort_values(by=['umi','read_starts'], ascending=[True,False])\n",
    "            test = test.drop_duplicates('umi', keep='first')\n",
    "            print('appending_list')\n",
    "\n",
    "            read_stops_list_of_list.append(list(test['read_starts']))\n",
    "            barcodes_list_of_list.append(list(test['barcodes']))\n",
    "        \n",
    "    df['barcodes'] = barcodes_list_of_list\n",
    "    df['read_stops'] = read_stops_list_of_list\n",
    "    return df"
   ]
  },
  {
   "cell_type": "code",
   "execution_count": 173,
   "metadata": {},
   "outputs": [],
   "source": [
    "os.chdir('/Volumes/Elements/10X bam')"
   ]
  },
  {
   "cell_type": "code",
   "execution_count": 473,
   "metadata": {},
   "outputs": [
    {
     "data": {
      "text/html": [
       "<div>\n",
       "<style scoped>\n",
       "    .dataframe tbody tr th:only-of-type {\n",
       "        vertical-align: middle;\n",
       "    }\n",
       "\n",
       "    .dataframe tbody tr th {\n",
       "        vertical-align: top;\n",
       "    }\n",
       "\n",
       "    .dataframe thead th {\n",
       "        text-align: right;\n",
       "    }\n",
       "</style>\n",
       "<table border=\"1\" class=\"dataframe\">\n",
       "  <thead>\n",
       "    <tr style=\"text-align: right;\">\n",
       "      <th></th>\n",
       "      <th>umi</th>\n",
       "      <th>read_starts</th>\n",
       "      <th>read_strand</th>\n",
       "      <th>barcodes</th>\n",
       "      <th>read_stops</th>\n",
       "      <th>diff</th>\n",
       "    </tr>\n",
       "  </thead>\n",
       "  <tbody>\n",
       "    <tr>\n",
       "      <th>0</th>\n",
       "      <td>AGCTAAACGTAC</td>\n",
       "      <td>50748868</td>\n",
       "      <td>16</td>\n",
       "      <td>[AGGATCTGTCGATGCC-1]</td>\n",
       "      <td>51786283</td>\n",
       "      <td>-996304</td>\n",
       "    </tr>\n",
       "    <tr>\n",
       "      <th>69</th>\n",
       "      <td>ACTGTTGCTACC</td>\n",
       "      <td>51410088</td>\n",
       "      <td>16</td>\n",
       "      <td>[GTACAACGTATCGAAA-1]</td>\n",
       "      <td>51787469</td>\n",
       "      <td>-335084</td>\n",
       "    </tr>\n",
       "    <tr>\n",
       "      <th>155</th>\n",
       "      <td>TGTAGTGCCTGA</td>\n",
       "      <td>51470932</td>\n",
       "      <td>16</td>\n",
       "      <td>[TCGCACTGTGACGCCT-1]</td>\n",
       "      <td>51764000</td>\n",
       "      <td>-274240</td>\n",
       "    </tr>\n",
       "    <tr>\n",
       "      <th>3775</th>\n",
       "      <td>TCTCGTCCTGCT</td>\n",
       "      <td>51550714</td>\n",
       "      <td>16</td>\n",
       "      <td>[ACGGTCGAGACTAGAT-1]</td>\n",
       "      <td>51749871</td>\n",
       "      <td>-194458</td>\n",
       "    </tr>\n",
       "    <tr>\n",
       "      <th>4982</th>\n",
       "      <td>ACATATATGGGC</td>\n",
       "      <td>51575099</td>\n",
       "      <td>16</td>\n",
       "      <td>[CAGCGTGCAGGAGGTT-1]</td>\n",
       "      <td>51745897</td>\n",
       "      <td>-170073</td>\n",
       "    </tr>\n",
       "  </tbody>\n",
       "</table>\n",
       "</div>"
      ],
      "text/plain": [
       "               umi read_starts read_strand              barcodes  read_stops  \\\n",
       "0     AGCTAAACGTAC    50748868          16  [AGGATCTGTCGATGCC-1]    51786283   \n",
       "69    ACTGTTGCTACC    51410088          16  [GTACAACGTATCGAAA-1]    51787469   \n",
       "155   TGTAGTGCCTGA    51470932          16  [TCGCACTGTGACGCCT-1]    51764000   \n",
       "3775  TCTCGTCCTGCT    51550714          16  [ACGGTCGAGACTAGAT-1]    51749871   \n",
       "4982  ACATATATGGGC    51575099          16  [CAGCGTGCAGGAGGTT-1]    51745897   \n",
       "\n",
       "        diff  \n",
       "0    -996304  \n",
       "69   -335084  \n",
       "155  -274240  \n",
       "3775 -194458  \n",
       "4982 -170073  "
      ]
     },
     "execution_count": 473,
     "metadata": {},
     "output_type": "execute_result"
    }
   ],
   "source": [
    "test.head()"
   ]
  },
  {
   "cell_type": "code",
   "execution_count": 476,
   "metadata": {},
   "outputs": [
    {
     "data": {
      "text/plain": [
       "count     17067.000000\n",
       "mean       7436.106463\n",
       "std       15974.042584\n",
       "min     -996304.000000\n",
       "25%         714.000000\n",
       "50%         802.000000\n",
       "75%        5390.000000\n",
       "max       58832.000000\n",
       "Name: diff, dtype: float64"
      ]
     },
     "execution_count": 476,
     "metadata": {},
     "output_type": "execute_result"
    }
   ],
   "source": [
    "test['diff'].describe()"
   ]
  },
  {
   "cell_type": "code",
   "execution_count": 358,
   "metadata": {},
   "outputs": [],
   "source": [
    "test=test[test['read_strand']=='16']"
   ]
  },
  {
   "cell_type": "code",
   "execution_count": 359,
   "metadata": {},
   "outputs": [],
   "source": [
    "test = test[list(map(lambda x: len(x) != 0, test['umi']))]"
   ]
  },
  {
   "cell_type": "code",
   "execution_count": 360,
   "metadata": {},
   "outputs": [],
   "source": [
    "test = test[list(map(lambda x: len(x) != 0, test['barcodes']))]"
   ]
  },
  {
   "cell_type": "code",
   "execution_count": 361,
   "metadata": {},
   "outputs": [],
   "source": [
    "test['umi'] = list(map(lambda x: x[0], test['umi']))"
   ]
  },
  {
   "cell_type": "code",
   "execution_count": null,
   "metadata": {},
   "outputs": [],
   "source": []
  },
  {
   "cell_type": "code",
   "execution_count": 367,
   "metadata": {},
   "outputs": [],
   "source": [
    "test = test[(test['read_stops'] > start) & (test['read_stops'] < stop)]"
   ]
  },
  {
   "cell_type": "code",
   "execution_count": 368,
   "metadata": {},
   "outputs": [
    {
     "data": {
      "text/html": [
       "<div>\n",
       "<style scoped>\n",
       "    .dataframe tbody tr th:only-of-type {\n",
       "        vertical-align: middle;\n",
       "    }\n",
       "\n",
       "    .dataframe tbody tr th {\n",
       "        vertical-align: top;\n",
       "    }\n",
       "\n",
       "    .dataframe thead th {\n",
       "        text-align: right;\n",
       "    }\n",
       "</style>\n",
       "<table border=\"1\" class=\"dataframe\">\n",
       "  <thead>\n",
       "    <tr style=\"text-align: right;\">\n",
       "      <th></th>\n",
       "      <th>umi</th>\n",
       "      <th>read_starts</th>\n",
       "      <th>read_strand</th>\n",
       "      <th>barcodes</th>\n",
       "      <th>read_stops</th>\n",
       "    </tr>\n",
       "  </thead>\n",
       "  <tbody>\n",
       "    <tr>\n",
       "      <th>82178</th>\n",
       "      <td>AAAAAAACCGGG</td>\n",
       "      <td>51750436</td>\n",
       "      <td>16</td>\n",
       "      <td>[ACACCAAAGCGAATGC-1]</td>\n",
       "      <td>51750526</td>\n",
       "    </tr>\n",
       "    <tr>\n",
       "      <th>63117</th>\n",
       "      <td>AAAAAACGCCAG</td>\n",
       "      <td>51745921</td>\n",
       "      <td>16</td>\n",
       "      <td>[TACCTGCTCCCAGGAC-1]</td>\n",
       "      <td>51746011</td>\n",
       "    </tr>\n",
       "    <tr>\n",
       "      <th>52490</th>\n",
       "      <td>AAAAAAGCGTCA</td>\n",
       "      <td>51745865</td>\n",
       "      <td>16</td>\n",
       "      <td>[TCCGGGAAGATGTTCC-1]</td>\n",
       "      <td>51745955</td>\n",
       "    </tr>\n",
       "    <tr>\n",
       "      <th>45812</th>\n",
       "      <td>AAAAACCGTAGC</td>\n",
       "      <td>51745824</td>\n",
       "      <td>16</td>\n",
       "      <td>[GCCCGAAAGCTGTTCA-1]</td>\n",
       "      <td>51745914</td>\n",
       "    </tr>\n",
       "    <tr>\n",
       "      <th>57567</th>\n",
       "      <td>AAAAACGCCGCA</td>\n",
       "      <td>51745896</td>\n",
       "      <td>16</td>\n",
       "      <td>[GAGCCTGAGGATATAC-1]</td>\n",
       "      <td>51745986</td>\n",
       "    </tr>\n",
       "    <tr>\n",
       "      <th>...</th>\n",
       "      <td>...</td>\n",
       "      <td>...</td>\n",
       "      <td>...</td>\n",
       "      <td>...</td>\n",
       "      <td>...</td>\n",
       "    </tr>\n",
       "    <tr>\n",
       "      <th>76406</th>\n",
       "      <td>TTTTTTGGAAAC</td>\n",
       "      <td>51746022</td>\n",
       "      <td>16</td>\n",
       "      <td>[TGACTCCTCTACGGGC-1]</td>\n",
       "      <td>51746112</td>\n",
       "    </tr>\n",
       "    <tr>\n",
       "      <th>50095</th>\n",
       "      <td>TTTTTTGTTTAA</td>\n",
       "      <td>51745852</td>\n",
       "      <td>16</td>\n",
       "      <td>[AAACGAACAGTCAGTT-1]</td>\n",
       "      <td>51745942</td>\n",
       "    </tr>\n",
       "    <tr>\n",
       "      <th>65146</th>\n",
       "      <td>TTTTTTGTTTTT</td>\n",
       "      <td>51745928</td>\n",
       "      <td>16</td>\n",
       "      <td>[GGAATGGGTTTGTTGG-1]</td>\n",
       "      <td>51746018</td>\n",
       "    </tr>\n",
       "    <tr>\n",
       "      <th>52847</th>\n",
       "      <td>TTTTTTTCTCCG</td>\n",
       "      <td>51745868</td>\n",
       "      <td>16</td>\n",
       "      <td>[ATCGGCGGTGACAGGT-1]</td>\n",
       "      <td>51745958</td>\n",
       "    </tr>\n",
       "    <tr>\n",
       "      <th>59366</th>\n",
       "      <td>TTTTTTTTTCGT</td>\n",
       "      <td>51745905</td>\n",
       "      <td>16</td>\n",
       "      <td>[CAAGCTAGTATCAGCT-1]</td>\n",
       "      <td>51745995</td>\n",
       "    </tr>\n",
       "  </tbody>\n",
       "</table>\n",
       "<p>17067 rows × 5 columns</p>\n",
       "</div>"
      ],
      "text/plain": [
       "                umi read_starts read_strand              barcodes  read_stops\n",
       "82178  AAAAAAACCGGG    51750436          16  [ACACCAAAGCGAATGC-1]    51750526\n",
       "63117  AAAAAACGCCAG    51745921          16  [TACCTGCTCCCAGGAC-1]    51746011\n",
       "52490  AAAAAAGCGTCA    51745865          16  [TCCGGGAAGATGTTCC-1]    51745955\n",
       "45812  AAAAACCGTAGC    51745824          16  [GCCCGAAAGCTGTTCA-1]    51745914\n",
       "57567  AAAAACGCCGCA    51745896          16  [GAGCCTGAGGATATAC-1]    51745986\n",
       "...             ...         ...         ...                   ...         ...\n",
       "76406  TTTTTTGGAAAC    51746022          16  [TGACTCCTCTACGGGC-1]    51746112\n",
       "50095  TTTTTTGTTTAA    51745852          16  [AAACGAACAGTCAGTT-1]    51745942\n",
       "65146  TTTTTTGTTTTT    51745928          16  [GGAATGGGTTTGTTGG-1]    51746018\n",
       "52847  TTTTTTTCTCCG    51745868          16  [ATCGGCGGTGACAGGT-1]    51745958\n",
       "59366  TTTTTTTTTCGT    51745905          16  [CAAGCTAGTATCAGCT-1]    51745995\n",
       "\n",
       "[17067 rows x 5 columns]"
      ]
     },
     "execution_count": 368,
     "metadata": {},
     "output_type": "execute_result"
    }
   ],
   "source": [
    "test.sort_values(by=['umi','read_starts'])"
   ]
  },
  {
   "cell_type": "code",
   "execution_count": 495,
   "metadata": {},
   "outputs": [
    {
     "data": {
      "text/html": [
       "<div>\n",
       "<style scoped>\n",
       "    .dataframe tbody tr th:only-of-type {\n",
       "        vertical-align: middle;\n",
       "    }\n",
       "\n",
       "    .dataframe tbody tr th {\n",
       "        vertical-align: top;\n",
       "    }\n",
       "\n",
       "    .dataframe thead th {\n",
       "        text-align: right;\n",
       "    }\n",
       "</style>\n",
       "<table border=\"1\" class=\"dataframe\">\n",
       "  <thead>\n",
       "    <tr style=\"text-align: right;\">\n",
       "      <th></th>\n",
       "      <th>umi</th>\n",
       "      <th>read_starts</th>\n",
       "      <th>read_strand</th>\n",
       "      <th>barcodes</th>\n",
       "      <th>read_stops</th>\n",
       "      <th>diff</th>\n",
       "    </tr>\n",
       "  </thead>\n",
       "  <tbody>\n",
       "    <tr>\n",
       "      <th>52847</th>\n",
       "      <td>TTTTTTTCTCCG</td>\n",
       "      <td>51745868</td>\n",
       "      <td>16</td>\n",
       "      <td>[ATCGGCGGTGACAGGT-1]</td>\n",
       "      <td>51745958</td>\n",
       "      <td>696</td>\n",
       "    </tr>\n",
       "  </tbody>\n",
       "</table>\n",
       "</div>"
      ],
      "text/plain": [
       "                umi read_starts read_strand              barcodes  read_stops  \\\n",
       "52847  TTTTTTTCTCCG    51745868          16  [ATCGGCGGTGACAGGT-1]    51745958   \n",
       "\n",
       "       diff  \n",
       "52847   696  "
      ]
     },
     "execution_count": 495,
     "metadata": {},
     "output_type": "execute_result"
    }
   ],
   "source": [
    "test[list(map(lambda x: x in ['AAAAAACCGG','TTTTTTTCTCCG'], test['umi']))]"
   ]
  },
  {
   "cell_type": "code",
   "execution_count": 374,
   "metadata": {},
   "outputs": [],
   "source": [
    "test['diff']=test['read_starts'].astype('int')-start"
   ]
  },
  {
   "cell_type": "code",
   "execution_count": 375,
   "metadata": {},
   "outputs": [
    {
     "data": {
      "text/plain": [
       "count     17067.000000\n",
       "mean       7436.106463\n",
       "std       15974.042584\n",
       "min     -996304.000000\n",
       "25%         714.000000\n",
       "50%         802.000000\n",
       "75%        5390.000000\n",
       "max       58832.000000\n",
       "Name: diff, dtype: float64"
      ]
     },
     "execution_count": 375,
     "metadata": {},
     "output_type": "execute_result"
    }
   ],
   "source": [
    "test['diff'].describe()"
   ]
  },
  {
   "cell_type": "code",
   "execution_count": 45,
   "metadata": {},
   "outputs": [],
   "source": [
    "top_genes, filtered_barcodes = get_top_genes_and_barcodes_list('/Volumes/Elements/10X bam/Parent_NGSC3_DI_PBMC_filtered_feature_bc_matrix.h5',n_genes=510)"
   ]
  },
  {
   "cell_type": "code",
   "execution_count": 46,
   "metadata": {},
   "outputs": [
    {
     "data": {
      "text/html": [
       "<div>\n",
       "<style scoped>\n",
       "    .dataframe tbody tr th:only-of-type {\n",
       "        vertical-align: middle;\n",
       "    }\n",
       "\n",
       "    .dataframe tbody tr th {\n",
       "        vertical-align: top;\n",
       "    }\n",
       "\n",
       "    .dataframe thead th {\n",
       "        text-align: right;\n",
       "    }\n",
       "</style>\n",
       "<table border=\"1\" class=\"dataframe\">\n",
       "  <thead>\n",
       "    <tr style=\"text-align: right;\">\n",
       "      <th></th>\n",
       "      <th>count</th>\n",
       "      <th>ids</th>\n",
       "      <th>names</th>\n",
       "    </tr>\n",
       "  </thead>\n",
       "  <tbody>\n",
       "    <tr>\n",
       "      <th>490</th>\n",
       "      <td>20116</td>\n",
       "      <td>'ENSG00000147649'</td>\n",
       "      <td>'MTDH'</td>\n",
       "    </tr>\n",
       "    <tr>\n",
       "      <th>491</th>\n",
       "      <td>20083</td>\n",
       "      <td>'ENSG00000134884'</td>\n",
       "      <td>'ARGLU1'</td>\n",
       "    </tr>\n",
       "    <tr>\n",
       "      <th>492</th>\n",
       "      <td>20056</td>\n",
       "      <td>'ENSG00000116288'</td>\n",
       "      <td>'PARK7'</td>\n",
       "    </tr>\n",
       "    <tr>\n",
       "      <th>493</th>\n",
       "      <td>19986</td>\n",
       "      <td>'ENSG00000139218'</td>\n",
       "      <td>'SCAF11'</td>\n",
       "    </tr>\n",
       "    <tr>\n",
       "      <th>494</th>\n",
       "      <td>19966</td>\n",
       "      <td>'ENSG00000126756'</td>\n",
       "      <td>'UXT'</td>\n",
       "    </tr>\n",
       "    <tr>\n",
       "      <th>495</th>\n",
       "      <td>19800</td>\n",
       "      <td>'ENSG00000180353'</td>\n",
       "      <td>'HCLS1'</td>\n",
       "    </tr>\n",
       "    <tr>\n",
       "      <th>496</th>\n",
       "      <td>19784</td>\n",
       "      <td>'ENSG00000057608'</td>\n",
       "      <td>'GDI2'</td>\n",
       "    </tr>\n",
       "    <tr>\n",
       "      <th>497</th>\n",
       "      <td>19710</td>\n",
       "      <td>'ENSG00000117616'</td>\n",
       "      <td>'RSRP1'</td>\n",
       "    </tr>\n",
       "    <tr>\n",
       "      <th>498</th>\n",
       "      <td>19686</td>\n",
       "      <td>'ENSG00000132530'</td>\n",
       "      <td>'XAF1'</td>\n",
       "    </tr>\n",
       "    <tr>\n",
       "      <th>499</th>\n",
       "      <td>19677</td>\n",
       "      <td>'ENSG00000087074'</td>\n",
       "      <td>'PPP1R15A'</td>\n",
       "    </tr>\n",
       "  </tbody>\n",
       "</table>\n",
       "</div>"
      ],
      "text/plain": [
       "     count                ids       names\n",
       "490  20116  'ENSG00000147649'      'MTDH'\n",
       "491  20083  'ENSG00000134884'    'ARGLU1'\n",
       "492  20056  'ENSG00000116288'     'PARK7'\n",
       "493  19986  'ENSG00000139218'    'SCAF11'\n",
       "494  19966  'ENSG00000126756'       'UXT'\n",
       "495  19800  'ENSG00000180353'     'HCLS1'\n",
       "496  19784  'ENSG00000057608'      'GDI2'\n",
       "497  19710  'ENSG00000117616'     'RSRP1'\n",
       "498  19686  'ENSG00000132530'      'XAF1'\n",
       "499  19677  'ENSG00000087074'  'PPP1R15A'"
      ]
     },
     "execution_count": 46,
     "metadata": {},
     "output_type": "execute_result"
    }
   ],
   "source": [
    "top_genes[490:500]"
   ]
  },
  {
   "cell_type": "code",
   "execution_count": 47,
   "metadata": {},
   "outputs": [],
   "source": [
    "top_genes = top_genes[500:510]"
   ]
  },
  {
   "cell_type": "markdown",
   "metadata": {},
   "source": [
    "top genes were MALAT, b2M, mitochondrial, even at pos 100 were translational initiation, ribosomal, I think I will cut off top 100 as housekeepers so this runs faster"
   ]
  },
  {
   "cell_type": "code",
   "execution_count": 170,
   "metadata": {},
   "outputs": [],
   "source": [
    "os.chdir('/Volumes/BethMac/hg38')"
   ]
  },
  {
   "cell_type": "code",
   "execution_count": 171,
   "metadata": {},
   "outputs": [
    {
     "name": "stdout",
     "output_type": "stream",
     "text": [
      "'ENSG00000204257'\n",
      "'ENSG00000196924'\n",
      "'ENSG00000121552'\n",
      "'ENSG00000062716'\n",
      "'ENSG00000135218'\n",
      "'ENSG00000124795'\n",
      "'ENSG00000164096'\n",
      "'ENSG00000105887'\n",
      "'ENSG00000102524'\n",
      "'ENSG00000132341'\n"
     ]
    }
   ],
   "source": [
    "df = gtf_top_genes(top_genes, 'hg38.ensGene.gtf')"
   ]
  },
  {
   "cell_type": "code",
   "execution_count": 172,
   "metadata": {},
   "outputs": [
    {
     "data": {
      "text/html": [
       "<div>\n",
       "<style scoped>\n",
       "    .dataframe tbody tr th:only-of-type {\n",
       "        vertical-align: middle;\n",
       "    }\n",
       "\n",
       "    .dataframe tbody tr th {\n",
       "        vertical-align: top;\n",
       "    }\n",
       "\n",
       "    .dataframe thead th {\n",
       "        text-align: right;\n",
       "    }\n",
       "</style>\n",
       "<table border=\"1\" class=\"dataframe\">\n",
       "  <thead>\n",
       "    <tr style=\"text-align: right;\">\n",
       "      <th></th>\n",
       "      <th>gene_id</th>\n",
       "      <th>name</th>\n",
       "      <th>chrom</th>\n",
       "      <th>exons</th>\n",
       "      <th>strand</th>\n",
       "    </tr>\n",
       "  </thead>\n",
       "  <tbody>\n",
       "    <tr>\n",
       "      <th>500</th>\n",
       "      <td>'ENSG00000204257'</td>\n",
       "      <td>'HLA-DMA'</td>\n",
       "      <td>chr6</td>\n",
       "      <td>[32948613, 32948614, 32948615, 32948616, 32948...</td>\n",
       "      <td>-</td>\n",
       "    </tr>\n",
       "    <tr>\n",
       "      <th>501</th>\n",
       "      <td>'ENSG00000196924'</td>\n",
       "      <td>'FLNA'</td>\n",
       "      <td>chrX</td>\n",
       "      <td>[154370873, 154370874, 154370875, 154370876, 1...</td>\n",
       "      <td>-</td>\n",
       "    </tr>\n",
       "    <tr>\n",
       "      <th>502</th>\n",
       "      <td>'ENSG00000121552'</td>\n",
       "      <td>'CSTA'</td>\n",
       "      <td>chr3</td>\n",
       "      <td>[122341628, 122341629, 122341630, 122341631, 1...</td>\n",
       "      <td>+</td>\n",
       "    </tr>\n",
       "    <tr>\n",
       "      <th>503</th>\n",
       "      <td>'ENSG00000062716'</td>\n",
       "      <td>'VMP1'</td>\n",
       "      <td>chr17</td>\n",
       "      <td>[59834012, 59834013, 59834014, 59834015, 59834...</td>\n",
       "      <td>+</td>\n",
       "    </tr>\n",
       "    <tr>\n",
       "      <th>504</th>\n",
       "      <td>'ENSG00000135218'</td>\n",
       "      <td>'CD36'</td>\n",
       "      <td>chr7</td>\n",
       "      <td>[80623923, 80623924, 80623925, 80623926, 80623...</td>\n",
       "      <td>+</td>\n",
       "    </tr>\n",
       "  </tbody>\n",
       "</table>\n",
       "</div>"
      ],
      "text/plain": [
       "               gene_id       name  chrom  \\\n",
       "500  'ENSG00000204257'  'HLA-DMA'   chr6   \n",
       "501  'ENSG00000196924'     'FLNA'   chrX   \n",
       "502  'ENSG00000121552'     'CSTA'   chr3   \n",
       "503  'ENSG00000062716'     'VMP1'  chr17   \n",
       "504  'ENSG00000135218'     'CD36'   chr7   \n",
       "\n",
       "                                                 exons strand  \n",
       "500  [32948613, 32948614, 32948615, 32948616, 32948...      -  \n",
       "501  [154370873, 154370874, 154370875, 154370876, 1...      -  \n",
       "502  [122341628, 122341629, 122341630, 122341631, 1...      +  \n",
       "503  [59834012, 59834013, 59834014, 59834015, 59834...      +  \n",
       "504  [80623923, 80623924, 80623925, 80623926, 80623...      +  "
      ]
     },
     "execution_count": 172,
     "metadata": {},
     "output_type": "execute_result"
    }
   ],
   "source": [
    "df.head()"
   ]
  },
  {
   "cell_type": "code",
   "execution_count": 102,
   "metadata": {},
   "outputs": [
    {
     "data": {
      "text/plain": [
       "10194"
      ]
     },
     "execution_count": 102,
     "metadata": {},
     "output_type": "execute_result"
    }
   ],
   "source": [
    "len(filtered_barcodes)"
   ]
  },
  {
   "cell_type": "code",
   "execution_count": 180,
   "metadata": {},
   "outputs": [
    {
     "name": "stdout",
     "output_type": "stream",
     "text": [
      "0\n",
      "parsing view\n",
      "making test\n",
      "appending_list\n",
      "1\n",
      "parsing view\n",
      "making test\n",
      "appending_list\n",
      "2\n",
      "parsing view\n",
      "making test\n",
      "appending_list\n",
      "3\n",
      "parsing view\n",
      "making test\n",
      "appending_list\n",
      "4\n",
      "parsing view\n",
      "making test\n",
      "appending_list\n"
     ]
    }
   ],
   "source": [
    "df2 = samtools_view(df.loc[500:504], filtered_barcodes, 'Parent_NGSC3_DI_PBMC_possorted_genome_bam.bam')"
   ]
  },
  {
   "cell_type": "code",
   "execution_count": 181,
   "metadata": {},
   "outputs": [
    {
     "data": {
      "text/html": [
       "<div>\n",
       "<style scoped>\n",
       "    .dataframe tbody tr th:only-of-type {\n",
       "        vertical-align: middle;\n",
       "    }\n",
       "\n",
       "    .dataframe tbody tr th {\n",
       "        vertical-align: top;\n",
       "    }\n",
       "\n",
       "    .dataframe thead th {\n",
       "        text-align: right;\n",
       "    }\n",
       "</style>\n",
       "<table border=\"1\" class=\"dataframe\">\n",
       "  <thead>\n",
       "    <tr style=\"text-align: right;\">\n",
       "      <th></th>\n",
       "      <th>index</th>\n",
       "      <th>gene_id</th>\n",
       "      <th>name</th>\n",
       "      <th>chrom</th>\n",
       "      <th>exons</th>\n",
       "      <th>strand</th>\n",
       "      <th>barcodes</th>\n",
       "      <th>read_stops</th>\n",
       "    </tr>\n",
       "  </thead>\n",
       "  <tbody>\n",
       "    <tr>\n",
       "      <th>0</th>\n",
       "      <td>500</td>\n",
       "      <td>'ENSG00000204257'</td>\n",
       "      <td>'HLA-DMA'</td>\n",
       "      <td>chr6</td>\n",
       "      <td>[32948613, 32948614, 32948615, 32948616, 32948...</td>\n",
       "      <td>-</td>\n",
       "      <td>[TTACAGGGTACTCCCT-1, TAGCACACACCTCAGG-1, CTCAA...</td>\n",
       "      <td>[32948619, 32948805, 32955989, 32948644, 32948...</td>\n",
       "    </tr>\n",
       "    <tr>\n",
       "      <th>1</th>\n",
       "      <td>501</td>\n",
       "      <td>'ENSG00000196924'</td>\n",
       "      <td>'FLNA'</td>\n",
       "      <td>chrX</td>\n",
       "      <td>[154370873, 154370874, 154370875, 154370876, 1...</td>\n",
       "      <td>-</td>\n",
       "      <td>[TGTGCGGAGCTTGTGT-1, ACTGCAAGTGAGCAGT-1, GGTAG...</td>\n",
       "      <td>[154348532, 154348568, 154348536, 154348635, 1...</td>\n",
       "    </tr>\n",
       "    <tr>\n",
       "      <th>2</th>\n",
       "      <td>502</td>\n",
       "      <td>'ENSG00000121552'</td>\n",
       "      <td>'CSTA'</td>\n",
       "      <td>chr3</td>\n",
       "      <td>[122341628, 122341629, 122341630, 122341631, 1...</td>\n",
       "      <td>+</td>\n",
       "      <td>[GTGTGATTCGGAGTGA-1, GTCATGAAGAATCGCG-1, CTCAA...</td>\n",
       "      <td>[122341581, 122341470, 122341648, 122341544, 1...</td>\n",
       "    </tr>\n",
       "    <tr>\n",
       "      <th>3</th>\n",
       "      <td>503</td>\n",
       "      <td>'ENSG00000062716'</td>\n",
       "      <td>'VMP1'</td>\n",
       "      <td>chr17</td>\n",
       "      <td>[59834012, 59834013, 59834014, 59834015, 59834...</td>\n",
       "      <td>+</td>\n",
       "      <td>[GCTTGGGAGCTTACGT-1, TCAGTGACACTTTATC-1, CCGAT...</td>\n",
       "      <td>[59760029, 59788703, 59785629, 59747774, 59760...</td>\n",
       "    </tr>\n",
       "    <tr>\n",
       "      <th>4</th>\n",
       "      <td>504</td>\n",
       "      <td>'ENSG00000135218'</td>\n",
       "      <td>'CD36'</td>\n",
       "      <td>chr7</td>\n",
       "      <td>[80623923, 80623924, 80623925, 80623926, 80623...</td>\n",
       "      <td>+</td>\n",
       "      <td>[AGCCAATGTTGTAGCT-1, TCTACCGCAGGTCAGA-1, CCCTC...</td>\n",
       "      <td>[80679177, 80655741, 80679280, 80679154, 80655...</td>\n",
       "    </tr>\n",
       "  </tbody>\n",
       "</table>\n",
       "</div>"
      ],
      "text/plain": [
       "   index            gene_id       name  chrom  \\\n",
       "0    500  'ENSG00000204257'  'HLA-DMA'   chr6   \n",
       "1    501  'ENSG00000196924'     'FLNA'   chrX   \n",
       "2    502  'ENSG00000121552'     'CSTA'   chr3   \n",
       "3    503  'ENSG00000062716'     'VMP1'  chr17   \n",
       "4    504  'ENSG00000135218'     'CD36'   chr7   \n",
       "\n",
       "                                               exons strand  \\\n",
       "0  [32948613, 32948614, 32948615, 32948616, 32948...      -   \n",
       "1  [154370873, 154370874, 154370875, 154370876, 1...      -   \n",
       "2  [122341628, 122341629, 122341630, 122341631, 1...      +   \n",
       "3  [59834012, 59834013, 59834014, 59834015, 59834...      +   \n",
       "4  [80623923, 80623924, 80623925, 80623926, 80623...      +   \n",
       "\n",
       "                                            barcodes  \\\n",
       "0  [TTACAGGGTACTCCCT-1, TAGCACACACCTCAGG-1, CTCAA...   \n",
       "1  [TGTGCGGAGCTTGTGT-1, ACTGCAAGTGAGCAGT-1, GGTAG...   \n",
       "2  [GTGTGATTCGGAGTGA-1, GTCATGAAGAATCGCG-1, CTCAA...   \n",
       "3  [GCTTGGGAGCTTACGT-1, TCAGTGACACTTTATC-1, CCGAT...   \n",
       "4  [AGCCAATGTTGTAGCT-1, TCTACCGCAGGTCAGA-1, CCCTC...   \n",
       "\n",
       "                                          read_stops  \n",
       "0  [32948619, 32948805, 32955989, 32948644, 32948...  \n",
       "1  [154348532, 154348568, 154348536, 154348635, 1...  \n",
       "2  [122341581, 122341470, 122341648, 122341544, 1...  \n",
       "3  [59760029, 59788703, 59785629, 59747774, 59760...  \n",
       "4  [80679177, 80655741, 80679280, 80679154, 80655...  "
      ]
     },
     "execution_count": 181,
     "metadata": {},
     "output_type": "execute_result"
    }
   ],
   "source": [
    "df2"
   ]
  },
  {
   "cell_type": "code",
   "execution_count": 183,
   "metadata": {},
   "outputs": [
    {
     "data": {
      "text/plain": [
       "32948613"
      ]
     },
     "execution_count": 183,
     "metadata": {},
     "output_type": "execute_result"
    }
   ],
   "source": [
    "min(df2.loc[0,'exons'])"
   ]
  },
  {
   "cell_type": "code",
   "execution_count": 116,
   "metadata": {},
   "outputs": [
    {
     "data": {
      "text/plain": [
       "str"
      ]
     },
     "execution_count": 116,
     "metadata": {},
     "output_type": "execute_result"
    }
   ],
   "source": [
    "type(df2.loc[0,'read_stops'][0])"
   ]
  },
  {
   "cell_type": "code",
   "execution_count": 218,
   "metadata": {},
   "outputs": [],
   "source": [
    "def seperate_into_peaks(df2):\n",
    "    final_counts = pd.DataFrame()\n",
    "    final_summary = pd.DataFrame()\n",
    "    df = df2.copy()\n",
    "    \n",
    "    for i in range(len(df)):\n",
    "        print(i)\n",
    "        if df.loc[i,'strand'] == \"+\":\n",
    "            start = min(df.loc[i,'exons'])\n",
    "            exons = list(map(lambda x: x - start, df.loc[i,'exons']))\n",
    "            read_stops = list(map(lambda x: int(x) - start, df.loc[i,'read_stops']))\n",
    "        if df.loc[i,'strand'] == \"-\":\n",
    "            start = max(df.loc[i,'exons'])\n",
    "            exons = list(map(lambda x: -1*(x - start), df.loc[i,'exons']))\n",
    "            read_stops = list(map(lambda x: -1*(int(x) - start), df.loc[i,'read_stops']))\n",
    "       \n",
    "        read_stops_dict = defaultdict(int)\n",
    "        barcodes_dict = defaultdict(list)\n",
    "        read_barcode_zip = zip(df.loc[i,'barcodes'],read_stops)\n",
    "        for b in read_barcode_zip:\n",
    "            read_stops_dict[b[1]] += 1\n",
    "            barcodes_dict[b[1]].append(b[0])\n",
    "                   \n",
    "        \n",
    "        #exons model\n",
    "    \n",
    "        read_stops_exons=defaultdict(int)\n",
    "        barcodes_exons=defaultdict(list)\n",
    "        for key in exons:\n",
    "            if read_stops_dict.get(key):\n",
    "                read_stops_exons[key] = read_stops_dict.get(key)\n",
    "                barcodes_exons[key] = barcodes_dict.get(key)\n",
    "                \n",
    "        for_bgm = [x for y in [[exons.index(i)]*n for i, n in read_stops_exons.items()] for x in y]\n",
    "        for_bgm = np.array(for_bgm).reshape([-1,1])\n",
    "        result = BayesianGaussianMixture(4,max_iter=2000).fit(for_bgm).predict(for_bgm)\n",
    "        \n",
    "        barcodes = [np.array(i).flatten() for i in barcodes_exons.values()]\n",
    "        barcodes = np.concatenate(barcodes)\n",
    "                \n",
    "        exons_results = pd.DataFrame({'result':result,'pos':for_bgm.flatten(),'barcode':barcodes})\n",
    "        exons_results['result'] = exons_results['result'].map(lambda x: df.loc[i,'gene_id'] + '_exon_' + str(x))\n",
    "        exons_results['pos'] = exons_results['pos'].map(lambda x: exons[x])\n",
    "        \n",
    "        #other model\n",
    "                 \n",
    "        other_read_stops=defaultdict(int)\n",
    "        other_barcodes=defaultdict(list)\n",
    "        for key in read_stops_dict.keys():\n",
    "            if key not in exons:\n",
    "                other_read_stops[key] = read_stops_dict.get(key)\n",
    "                other_barcodes[key] = barcodes_dict.get(key)\n",
    "        \n",
    "        for_bgm = [x for y in [[i]*n for i, n in other_read_stops.items()] for x in y]\n",
    "        for_bgm = np.array(for_bgm).reshape([-1,1])\n",
    "        result = BayesianGaussianMixture(4,max_iter=2000).fit(for_bgm).predict(for_bgm)\n",
    "        \n",
    "        barcodes = [np.array(i).flatten() for i in other_barcodes.values()]\n",
    "        barcodes = np.concatenate(barcodes)\n",
    "        \n",
    "        other_results =  pd.DataFrame({'result':result,'pos':for_bgm.flatten(),'barcode':barcodes})\n",
    "        other_results['result'] = other_results['result'].map(lambda x: df.loc[i,'gene_id'] + '_other_' + str(x))\n",
    "        \n",
    "        gene_final = pd.concat([exons_results,other_results],axis=0,ignore_index=False)\n",
    "        \n",
    "        gene_summary = gene_final.groupby(['result']).agg({'pos':['mean','std','count']})\n",
    "        \n",
    "        gene_counts = gene_final.groupby(['barcode','result']).count().rename(columns={'pos':'count'})\n",
    "        \n",
    "        final_summary = pd.concat([final_summary, gene_summary],axis=0,ignore_index=False)\n",
    "        \n",
    "        final_counts = pd.concat([final_counts,gene_counts],axis=0,ignore_index=False)\n",
    "        \n",
    "                  \n",
    "    #df.drop(['barcodes','exons','read_stops'],axis=1,inplace=True)\n",
    "    return final_counts, final_summary"
   ]
  },
  {
   "cell_type": "code",
   "execution_count": 219,
   "metadata": {},
   "outputs": [
    {
     "name": "stdout",
     "output_type": "stream",
     "text": [
      "0\n",
      "1\n",
      "2\n",
      "3\n",
      "4\n"
     ]
    }
   ],
   "source": [
    "counts, summaries = seperate_into_peaks(df2)"
   ]
  },
  {
   "cell_type": "code",
   "execution_count": 220,
   "metadata": {},
   "outputs": [
    {
     "data": {
      "text/html": [
       "<div>\n",
       "<style scoped>\n",
       "    .dataframe tbody tr th:only-of-type {\n",
       "        vertical-align: middle;\n",
       "    }\n",
       "\n",
       "    .dataframe tbody tr th {\n",
       "        vertical-align: top;\n",
       "    }\n",
       "\n",
       "    .dataframe thead th {\n",
       "        text-align: right;\n",
       "    }\n",
       "</style>\n",
       "<table border=\"1\" class=\"dataframe\">\n",
       "  <thead>\n",
       "    <tr style=\"text-align: right;\">\n",
       "      <th></th>\n",
       "      <th>index</th>\n",
       "      <th>gene_id</th>\n",
       "      <th>name</th>\n",
       "      <th>chrom</th>\n",
       "      <th>exons</th>\n",
       "      <th>strand</th>\n",
       "      <th>barcodes</th>\n",
       "      <th>read_stops</th>\n",
       "    </tr>\n",
       "  </thead>\n",
       "  <tbody>\n",
       "    <tr>\n",
       "      <th>0</th>\n",
       "      <td>500</td>\n",
       "      <td>'ENSG00000204257'</td>\n",
       "      <td>'HLA-DMA'</td>\n",
       "      <td>chr6</td>\n",
       "      <td>[32948613, 32948614, 32948615, 32948616, 32948...</td>\n",
       "      <td>-</td>\n",
       "      <td>[TTACAGGGTACTCCCT-1, TAGCACACACCTCAGG-1, CTCAA...</td>\n",
       "      <td>[32948619, 32948805, 32955989, 32948644, 32948...</td>\n",
       "    </tr>\n",
       "    <tr>\n",
       "      <th>1</th>\n",
       "      <td>501</td>\n",
       "      <td>'ENSG00000196924'</td>\n",
       "      <td>'FLNA'</td>\n",
       "      <td>chrX</td>\n",
       "      <td>[154370873, 154370874, 154370875, 154370876, 1...</td>\n",
       "      <td>-</td>\n",
       "      <td>[TGTGCGGAGCTTGTGT-1, ACTGCAAGTGAGCAGT-1, GGTAG...</td>\n",
       "      <td>[154348532, 154348568, 154348536, 154348635, 1...</td>\n",
       "    </tr>\n",
       "    <tr>\n",
       "      <th>2</th>\n",
       "      <td>502</td>\n",
       "      <td>'ENSG00000121552'</td>\n",
       "      <td>'CSTA'</td>\n",
       "      <td>chr3</td>\n",
       "      <td>[122341628, 122341629, 122341630, 122341631, 1...</td>\n",
       "      <td>+</td>\n",
       "      <td>[GTGTGATTCGGAGTGA-1, GTCATGAAGAATCGCG-1, CTCAA...</td>\n",
       "      <td>[122341581, 122341470, 122341648, 122341544, 1...</td>\n",
       "    </tr>\n",
       "    <tr>\n",
       "      <th>3</th>\n",
       "      <td>503</td>\n",
       "      <td>'ENSG00000062716'</td>\n",
       "      <td>'VMP1'</td>\n",
       "      <td>chr17</td>\n",
       "      <td>[59834012, 59834013, 59834014, 59834015, 59834...</td>\n",
       "      <td>+</td>\n",
       "      <td>[GCTTGGGAGCTTACGT-1, TCAGTGACACTTTATC-1, CCGAT...</td>\n",
       "      <td>[59760029, 59788703, 59785629, 59747774, 59760...</td>\n",
       "    </tr>\n",
       "    <tr>\n",
       "      <th>4</th>\n",
       "      <td>504</td>\n",
       "      <td>'ENSG00000135218'</td>\n",
       "      <td>'CD36'</td>\n",
       "      <td>chr7</td>\n",
       "      <td>[80623923, 80623924, 80623925, 80623926, 80623...</td>\n",
       "      <td>+</td>\n",
       "      <td>[AGCCAATGTTGTAGCT-1, TCTACCGCAGGTCAGA-1, CCCTC...</td>\n",
       "      <td>[80679177, 80655741, 80679280, 80679154, 80655...</td>\n",
       "    </tr>\n",
       "  </tbody>\n",
       "</table>\n",
       "</div>"
      ],
      "text/plain": [
       "   index            gene_id       name  chrom  \\\n",
       "0    500  'ENSG00000204257'  'HLA-DMA'   chr6   \n",
       "1    501  'ENSG00000196924'     'FLNA'   chrX   \n",
       "2    502  'ENSG00000121552'     'CSTA'   chr3   \n",
       "3    503  'ENSG00000062716'     'VMP1'  chr17   \n",
       "4    504  'ENSG00000135218'     'CD36'   chr7   \n",
       "\n",
       "                                               exons strand  \\\n",
       "0  [32948613, 32948614, 32948615, 32948616, 32948...      -   \n",
       "1  [154370873, 154370874, 154370875, 154370876, 1...      -   \n",
       "2  [122341628, 122341629, 122341630, 122341631, 1...      +   \n",
       "3  [59834012, 59834013, 59834014, 59834015, 59834...      +   \n",
       "4  [80623923, 80623924, 80623925, 80623926, 80623...      +   \n",
       "\n",
       "                                            barcodes  \\\n",
       "0  [TTACAGGGTACTCCCT-1, TAGCACACACCTCAGG-1, CTCAA...   \n",
       "1  [TGTGCGGAGCTTGTGT-1, ACTGCAAGTGAGCAGT-1, GGTAG...   \n",
       "2  [GTGTGATTCGGAGTGA-1, GTCATGAAGAATCGCG-1, CTCAA...   \n",
       "3  [GCTTGGGAGCTTACGT-1, TCAGTGACACTTTATC-1, CCGAT...   \n",
       "4  [AGCCAATGTTGTAGCT-1, TCTACCGCAGGTCAGA-1, CCCTC...   \n",
       "\n",
       "                                          read_stops  \n",
       "0  [32948619, 32948805, 32955989, 32948644, 32948...  \n",
       "1  [154348532, 154348568, 154348536, 154348635, 1...  \n",
       "2  [122341581, 122341470, 122341648, 122341544, 1...  \n",
       "3  [59760029, 59788703, 59785629, 59747774, 59760...  \n",
       "4  [80679177, 80655741, 80679280, 80679154, 80655...  "
      ]
     },
     "execution_count": 220,
     "metadata": {},
     "output_type": "execute_result"
    }
   ],
   "source": [
    "df2.head()"
   ]
  },
  {
   "cell_type": "code",
   "execution_count": 126,
   "metadata": {},
   "outputs": [],
   "source": [
    "os.chdir('/Users/beth/Documents/Python/')"
   ]
  },
  {
   "cell_type": "code",
   "execution_count": 127,
   "metadata": {},
   "outputs": [],
   "source": [
    "with open('1000_gene_counts_2.pickle', 'wb') as write_file:\n",
    "    pickle.dump(counts, write_file)"
   ]
  },
  {
   "cell_type": "code",
   "execution_count": 128,
   "metadata": {},
   "outputs": [],
   "source": [
    "with open('1000_gene_summaries_2.pickle', 'wb') as write_file:\n",
    "    pickle.dump(summaries, write_file)"
   ]
  },
  {
   "cell_type": "code",
   "execution_count": 129,
   "metadata": {},
   "outputs": [
    {
     "data": {
      "text/plain": [
       "(17540636, 1)"
      ]
     },
     "execution_count": 129,
     "metadata": {},
     "output_type": "execute_result"
    }
   ],
   "source": [
    "counts.shape"
   ]
  },
  {
   "cell_type": "code",
   "execution_count": 130,
   "metadata": {},
   "outputs": [
    {
     "data": {
      "text/plain": [
       "(7710, 3)"
      ]
     },
     "execution_count": 130,
     "metadata": {},
     "output_type": "execute_result"
    }
   ],
   "source": [
    "summaries.shape"
   ]
  },
  {
   "cell_type": "code",
   "execution_count": 26,
   "metadata": {},
   "outputs": [
    {
     "data": {
      "text/html": [
       "<div>\n",
       "<style scoped>\n",
       "    .dataframe tbody tr th:only-of-type {\n",
       "        vertical-align: middle;\n",
       "    }\n",
       "\n",
       "    .dataframe tbody tr th {\n",
       "        vertical-align: top;\n",
       "    }\n",
       "\n",
       "    .dataframe thead th {\n",
       "        text-align: right;\n",
       "    }\n",
       "</style>\n",
       "<table border=\"1\" class=\"dataframe\">\n",
       "  <thead>\n",
       "    <tr style=\"text-align: right;\">\n",
       "      <th></th>\n",
       "      <th></th>\n",
       "      <th>count</th>\n",
       "    </tr>\n",
       "    <tr>\n",
       "      <th>barcode</th>\n",
       "      <th>result</th>\n",
       "      <th></th>\n",
       "    </tr>\n",
       "  </thead>\n",
       "  <tbody>\n",
       "    <tr>\n",
       "      <th>AAACCCACAAGAATGT-1</th>\n",
       "      <th>'ENSG00000124614'_exon_3</th>\n",
       "      <td>1</td>\n",
       "    </tr>\n",
       "    <tr>\n",
       "      <th>AAACCCACACAGCCTG-1</th>\n",
       "      <th>'ENSG00000124614'_exon_3</th>\n",
       "      <td>1</td>\n",
       "    </tr>\n",
       "    <tr>\n",
       "      <th>AAACCCACACCTTCCA-1</th>\n",
       "      <th>'ENSG00000124614'_exon_2</th>\n",
       "      <td>3</td>\n",
       "    </tr>\n",
       "    <tr>\n",
       "      <th>AAACCCACAGCTGAAG-1</th>\n",
       "      <th>'ENSG00000124614'_exon_2</th>\n",
       "      <td>1</td>\n",
       "    </tr>\n",
       "    <tr>\n",
       "      <th>AAACCCACATAACTCG-1</th>\n",
       "      <th>'ENSG00000124614'_exon_0</th>\n",
       "      <td>22</td>\n",
       "    </tr>\n",
       "  </tbody>\n",
       "</table>\n",
       "</div>"
      ],
      "text/plain": [
       "                                             count\n",
       "barcode            result                         \n",
       "AAACCCACAAGAATGT-1 'ENSG00000124614'_exon_3      1\n",
       "AAACCCACACAGCCTG-1 'ENSG00000124614'_exon_3      1\n",
       "AAACCCACACCTTCCA-1 'ENSG00000124614'_exon_2      3\n",
       "AAACCCACAGCTGAAG-1 'ENSG00000124614'_exon_2      1\n",
       "AAACCCACATAACTCG-1 'ENSG00000124614'_exon_0     22"
      ]
     },
     "execution_count": 26,
     "metadata": {},
     "output_type": "execute_result"
    }
   ],
   "source": [
    "counts.head()"
   ]
  },
  {
   "cell_type": "code",
   "execution_count": 27,
   "metadata": {},
   "outputs": [
    {
     "data": {
      "text/html": [
       "<div>\n",
       "<style scoped>\n",
       "    .dataframe tbody tr th:only-of-type {\n",
       "        vertical-align: middle;\n",
       "    }\n",
       "\n",
       "    .dataframe tbody tr th {\n",
       "        vertical-align: top;\n",
       "    }\n",
       "\n",
       "    .dataframe thead tr th {\n",
       "        text-align: left;\n",
       "    }\n",
       "\n",
       "    .dataframe thead tr:last-of-type th {\n",
       "        text-align: right;\n",
       "    }\n",
       "</style>\n",
       "<table border=\"1\" class=\"dataframe\">\n",
       "  <thead>\n",
       "    <tr>\n",
       "      <th></th>\n",
       "      <th colspan=\"3\" halign=\"left\">pos</th>\n",
       "    </tr>\n",
       "    <tr>\n",
       "      <th></th>\n",
       "      <th>mean</th>\n",
       "      <th>std</th>\n",
       "      <th>count</th>\n",
       "    </tr>\n",
       "    <tr>\n",
       "      <th>result</th>\n",
       "      <th></th>\n",
       "      <th></th>\n",
       "      <th></th>\n",
       "    </tr>\n",
       "  </thead>\n",
       "  <tbody>\n",
       "    <tr>\n",
       "      <th>'ENSG00000124614'_exon_0</th>\n",
       "      <td>1017.518290</td>\n",
       "      <td>730.402226</td>\n",
       "      <td>192296</td>\n",
       "    </tr>\n",
       "    <tr>\n",
       "      <th>'ENSG00000124614'_exon_1</th>\n",
       "      <td>7181.698487</td>\n",
       "      <td>798.613048</td>\n",
       "      <td>251402</td>\n",
       "    </tr>\n",
       "    <tr>\n",
       "      <th>'ENSG00000124614'_exon_2</th>\n",
       "      <td>4315.252964</td>\n",
       "      <td>21.270960</td>\n",
       "      <td>491644</td>\n",
       "    </tr>\n",
       "    <tr>\n",
       "      <th>'ENSG00000124614'_exon_3</th>\n",
       "      <td>92.161572</td>\n",
       "      <td>82.501033</td>\n",
       "      <td>9847</td>\n",
       "    </tr>\n",
       "    <tr>\n",
       "      <th>'ENSG00000124614'_other_0</th>\n",
       "      <td>430.285521</td>\n",
       "      <td>435.742372</td>\n",
       "      <td>41321</td>\n",
       "    </tr>\n",
       "  </tbody>\n",
       "</table>\n",
       "</div>"
      ],
      "text/plain": [
       "                                   pos                    \n",
       "                                  mean         std   count\n",
       "result                                                    \n",
       "'ENSG00000124614'_exon_0   1017.518290  730.402226  192296\n",
       "'ENSG00000124614'_exon_1   7181.698487  798.613048  251402\n",
       "'ENSG00000124614'_exon_2   4315.252964   21.270960  491644\n",
       "'ENSG00000124614'_exon_3     92.161572   82.501033    9847\n",
       "'ENSG00000124614'_other_0   430.285521  435.742372   41321"
      ]
     },
     "execution_count": 27,
     "metadata": {},
     "output_type": "execute_result"
    }
   ],
   "source": [
    "summaries.head()"
   ]
  },
  {
   "cell_type": "code",
   "execution_count": 58,
   "metadata": {},
   "outputs": [],
   "source": [
    "counts = counts.reset_index()"
   ]
  },
  {
   "cell_type": "code",
   "execution_count": 59,
   "metadata": {},
   "outputs": [
    {
     "data": {
      "text/html": [
       "<div>\n",
       "<style scoped>\n",
       "    .dataframe tbody tr th:only-of-type {\n",
       "        vertical-align: middle;\n",
       "    }\n",
       "\n",
       "    .dataframe tbody tr th {\n",
       "        vertical-align: top;\n",
       "    }\n",
       "\n",
       "    .dataframe thead th {\n",
       "        text-align: right;\n",
       "    }\n",
       "</style>\n",
       "<table border=\"1\" class=\"dataframe\">\n",
       "  <thead>\n",
       "    <tr style=\"text-align: right;\">\n",
       "      <th></th>\n",
       "      <th>barcode</th>\n",
       "      <th>result</th>\n",
       "      <th>count</th>\n",
       "    </tr>\n",
       "  </thead>\n",
       "  <tbody>\n",
       "    <tr>\n",
       "      <th>0</th>\n",
       "      <td>AAACCCACAAGAATGT-1</td>\n",
       "      <td>'ENSG00000124614'_exon_3</td>\n",
       "      <td>1</td>\n",
       "    </tr>\n",
       "    <tr>\n",
       "      <th>1</th>\n",
       "      <td>AAACCCACACAGCCTG-1</td>\n",
       "      <td>'ENSG00000124614'_exon_3</td>\n",
       "      <td>1</td>\n",
       "    </tr>\n",
       "    <tr>\n",
       "      <th>2</th>\n",
       "      <td>AAACCCACACCTTCCA-1</td>\n",
       "      <td>'ENSG00000124614'_exon_2</td>\n",
       "      <td>3</td>\n",
       "    </tr>\n",
       "    <tr>\n",
       "      <th>3</th>\n",
       "      <td>AAACCCACAGCTGAAG-1</td>\n",
       "      <td>'ENSG00000124614'_exon_2</td>\n",
       "      <td>1</td>\n",
       "    </tr>\n",
       "    <tr>\n",
       "      <th>4</th>\n",
       "      <td>AAACCCACATAACTCG-1</td>\n",
       "      <td>'ENSG00000124614'_exon_0</td>\n",
       "      <td>22</td>\n",
       "    </tr>\n",
       "  </tbody>\n",
       "</table>\n",
       "</div>"
      ],
      "text/plain": [
       "              barcode                    result  count\n",
       "0  AAACCCACAAGAATGT-1  'ENSG00000124614'_exon_3      1\n",
       "1  AAACCCACACAGCCTG-1  'ENSG00000124614'_exon_3      1\n",
       "2  AAACCCACACCTTCCA-1  'ENSG00000124614'_exon_2      3\n",
       "3  AAACCCACAGCTGAAG-1  'ENSG00000124614'_exon_2      1\n",
       "4  AAACCCACATAACTCG-1  'ENSG00000124614'_exon_0     22"
      ]
     },
     "execution_count": 59,
     "metadata": {},
     "output_type": "execute_result"
    }
   ],
   "source": [
    "counts.head()"
   ]
  },
  {
   "cell_type": "code",
   "execution_count": 60,
   "metadata": {},
   "outputs": [],
   "source": [
    "counts = counts.sort_values('result')"
   ]
  },
  {
   "cell_type": "code",
   "execution_count": 64,
   "metadata": {},
   "outputs": [
    {
     "data": {
      "text/plain": [
       "11725887     True\n",
       "11727312     True\n",
       "11732060     True\n",
       "11727309     True\n",
       "11727308     True\n",
       "            ...  \n",
       "20109589    False\n",
       "20104580    False\n",
       "20099688    False\n",
       "20098205    False\n",
       "20097297    False\n",
       "Name: result, Length: 20604655, dtype: bool"
      ]
     },
     "execution_count": 64,
     "metadata": {},
     "output_type": "execute_result"
    }
   ],
   "source": [
    "counts['result'].str.contains('ENSG00000000938')"
   ]
  },
  {
   "cell_type": "code",
   "execution_count": 67,
   "metadata": {},
   "outputs": [
    {
     "data": {
      "text/html": [
       "<div>\n",
       "<style scoped>\n",
       "    .dataframe tbody tr th:only-of-type {\n",
       "        vertical-align: middle;\n",
       "    }\n",
       "\n",
       "    .dataframe tbody tr th {\n",
       "        vertical-align: top;\n",
       "    }\n",
       "\n",
       "    .dataframe thead th {\n",
       "        text-align: right;\n",
       "    }\n",
       "</style>\n",
       "<table border=\"1\" class=\"dataframe\">\n",
       "  <thead>\n",
       "    <tr style=\"text-align: right;\">\n",
       "      <th></th>\n",
       "      <th>barcode</th>\n",
       "      <th>result</th>\n",
       "      <th>count</th>\n",
       "    </tr>\n",
       "  </thead>\n",
       "  <tbody>\n",
       "    <tr>\n",
       "      <th>11725887</th>\n",
       "      <td>CGTAATGCACACCGCA-1</td>\n",
       "      <td>'ENSG00000000938'_exon_0</td>\n",
       "      <td>22</td>\n",
       "    </tr>\n",
       "    <tr>\n",
       "      <th>11727312</th>\n",
       "      <td>GACCTTCAGGCGCTCT-1</td>\n",
       "      <td>'ENSG00000000938'_exon_0</td>\n",
       "      <td>54</td>\n",
       "    </tr>\n",
       "    <tr>\n",
       "      <th>11732060</th>\n",
       "      <td>TGAGACTGTGGCTGAA-1</td>\n",
       "      <td>'ENSG00000000938'_exon_0</td>\n",
       "      <td>7</td>\n",
       "    </tr>\n",
       "    <tr>\n",
       "      <th>11727309</th>\n",
       "      <td>GACCTTCAGCCACAAG-1</td>\n",
       "      <td>'ENSG00000000938'_exon_0</td>\n",
       "      <td>13</td>\n",
       "    </tr>\n",
       "    <tr>\n",
       "      <th>11727308</th>\n",
       "      <td>GACCTTCAGATTGTGA-1</td>\n",
       "      <td>'ENSG00000000938'_exon_0</td>\n",
       "      <td>2</td>\n",
       "    </tr>\n",
       "    <tr>\n",
       "      <th>...</th>\n",
       "      <td>...</td>\n",
       "      <td>...</td>\n",
       "      <td>...</td>\n",
       "    </tr>\n",
       "    <tr>\n",
       "      <th>11727015</th>\n",
       "      <td>GAAACCTGTATTTCGG-1</td>\n",
       "      <td>'ENSG00000000938'_other_3</td>\n",
       "      <td>18</td>\n",
       "    </tr>\n",
       "    <tr>\n",
       "      <th>11726056</th>\n",
       "      <td>CTAAGTGAGTACAGAT-1</td>\n",
       "      <td>'ENSG00000000938'_other_3</td>\n",
       "      <td>8</td>\n",
       "    </tr>\n",
       "    <tr>\n",
       "      <th>11724202</th>\n",
       "      <td>CACTGAATCTTTCCAA-1</td>\n",
       "      <td>'ENSG00000000938'_other_3</td>\n",
       "      <td>1</td>\n",
       "    </tr>\n",
       "    <tr>\n",
       "      <th>11720812</th>\n",
       "      <td>AAAGAACAGCGGGTAT-1</td>\n",
       "      <td>'ENSG00000000938'_other_3</td>\n",
       "      <td>5</td>\n",
       "    </tr>\n",
       "    <tr>\n",
       "      <th>11721055</th>\n",
       "      <td>AACGTCACAGTGCCTG-1</td>\n",
       "      <td>'ENSG00000000938'_other_3</td>\n",
       "      <td>6</td>\n",
       "    </tr>\n",
       "  </tbody>\n",
       "</table>\n",
       "<p>13113 rows × 3 columns</p>\n",
       "</div>"
      ],
      "text/plain": [
       "                     barcode                     result  count\n",
       "11725887  CGTAATGCACACCGCA-1   'ENSG00000000938'_exon_0     22\n",
       "11727312  GACCTTCAGGCGCTCT-1   'ENSG00000000938'_exon_0     54\n",
       "11732060  TGAGACTGTGGCTGAA-1   'ENSG00000000938'_exon_0      7\n",
       "11727309  GACCTTCAGCCACAAG-1   'ENSG00000000938'_exon_0     13\n",
       "11727308  GACCTTCAGATTGTGA-1   'ENSG00000000938'_exon_0      2\n",
       "...                      ...                        ...    ...\n",
       "11727015  GAAACCTGTATTTCGG-1  'ENSG00000000938'_other_3     18\n",
       "11726056  CTAAGTGAGTACAGAT-1  'ENSG00000000938'_other_3      8\n",
       "11724202  CACTGAATCTTTCCAA-1  'ENSG00000000938'_other_3      1\n",
       "11720812  AAAGAACAGCGGGTAT-1  'ENSG00000000938'_other_3      5\n",
       "11721055  AACGTCACAGTGCCTG-1  'ENSG00000000938'_other_3      6\n",
       "\n",
       "[13113 rows x 3 columns]"
      ]
     },
     "execution_count": 67,
     "metadata": {},
     "output_type": "execute_result"
    }
   ],
   "source": [
    "counts.loc[counts['result'].str.contains('ENSG00000000938'),]"
   ]
  },
  {
   "cell_type": "code",
   "execution_count": 68,
   "metadata": {},
   "outputs": [],
   "source": [
    "counts = counts.loc[counts['result'].str.contains('ENSG00000000938'),].pivot(index = 'barcode', columns = \"result\")"
   ]
  },
  {
   "cell_type": "code",
   "execution_count": 69,
   "metadata": {},
   "outputs": [
    {
     "data": {
      "text/html": [
       "<div>\n",
       "<style scoped>\n",
       "    .dataframe tbody tr th:only-of-type {\n",
       "        vertical-align: middle;\n",
       "    }\n",
       "\n",
       "    .dataframe tbody tr th {\n",
       "        vertical-align: top;\n",
       "    }\n",
       "\n",
       "    .dataframe thead tr th {\n",
       "        text-align: left;\n",
       "    }\n",
       "\n",
       "    .dataframe thead tr:last-of-type th {\n",
       "        text-align: right;\n",
       "    }\n",
       "</style>\n",
       "<table border=\"1\" class=\"dataframe\">\n",
       "  <thead>\n",
       "    <tr>\n",
       "      <th></th>\n",
       "      <th colspan=\"8\" halign=\"left\">count</th>\n",
       "    </tr>\n",
       "    <tr>\n",
       "      <th>result</th>\n",
       "      <th>'ENSG00000000938'_exon_0</th>\n",
       "      <th>'ENSG00000000938'_exon_1</th>\n",
       "      <th>'ENSG00000000938'_exon_2</th>\n",
       "      <th>'ENSG00000000938'_exon_3</th>\n",
       "      <th>'ENSG00000000938'_other_0</th>\n",
       "      <th>'ENSG00000000938'_other_1</th>\n",
       "      <th>'ENSG00000000938'_other_2</th>\n",
       "      <th>'ENSG00000000938'_other_3</th>\n",
       "    </tr>\n",
       "    <tr>\n",
       "      <th>barcode</th>\n",
       "      <th></th>\n",
       "      <th></th>\n",
       "      <th></th>\n",
       "      <th></th>\n",
       "      <th></th>\n",
       "      <th></th>\n",
       "      <th></th>\n",
       "      <th></th>\n",
       "    </tr>\n",
       "  </thead>\n",
       "  <tbody>\n",
       "    <tr>\n",
       "      <th>AAACCCACACCGGAAA-1</th>\n",
       "      <td>NaN</td>\n",
       "      <td>NaN</td>\n",
       "      <td>NaN</td>\n",
       "      <td>NaN</td>\n",
       "      <td>1.0</td>\n",
       "      <td>NaN</td>\n",
       "      <td>NaN</td>\n",
       "      <td>NaN</td>\n",
       "    </tr>\n",
       "    <tr>\n",
       "      <th>AAACCCACACGCAAAG-1</th>\n",
       "      <td>3.0</td>\n",
       "      <td>NaN</td>\n",
       "      <td>NaN</td>\n",
       "      <td>NaN</td>\n",
       "      <td>NaN</td>\n",
       "      <td>NaN</td>\n",
       "      <td>NaN</td>\n",
       "      <td>NaN</td>\n",
       "    </tr>\n",
       "    <tr>\n",
       "      <th>AAACCCACATAACTCG-1</th>\n",
       "      <td>40.0</td>\n",
       "      <td>NaN</td>\n",
       "      <td>NaN</td>\n",
       "      <td>5.0</td>\n",
       "      <td>NaN</td>\n",
       "      <td>NaN</td>\n",
       "      <td>NaN</td>\n",
       "      <td>1.0</td>\n",
       "    </tr>\n",
       "    <tr>\n",
       "      <th>AAACCCAGTGAGTCAG-1</th>\n",
       "      <td>13.0</td>\n",
       "      <td>NaN</td>\n",
       "      <td>1.0</td>\n",
       "      <td>NaN</td>\n",
       "      <td>NaN</td>\n",
       "      <td>NaN</td>\n",
       "      <td>NaN</td>\n",
       "      <td>NaN</td>\n",
       "    </tr>\n",
       "    <tr>\n",
       "      <th>AAACGAACAGTCAGTT-1</th>\n",
       "      <td>13.0</td>\n",
       "      <td>NaN</td>\n",
       "      <td>NaN</td>\n",
       "      <td>1.0</td>\n",
       "      <td>NaN</td>\n",
       "      <td>NaN</td>\n",
       "      <td>NaN</td>\n",
       "      <td>NaN</td>\n",
       "    </tr>\n",
       "  </tbody>\n",
       "</table>\n",
       "</div>"
      ],
      "text/plain": [
       "                                      count                           \\\n",
       "result             'ENSG00000000938'_exon_0 'ENSG00000000938'_exon_1   \n",
       "barcode                                                                \n",
       "AAACCCACACCGGAAA-1                      NaN                      NaN   \n",
       "AAACCCACACGCAAAG-1                      3.0                      NaN   \n",
       "AAACCCACATAACTCG-1                     40.0                      NaN   \n",
       "AAACCCAGTGAGTCAG-1                     13.0                      NaN   \n",
       "AAACGAACAGTCAGTT-1                     13.0                      NaN   \n",
       "\n",
       "                                                                      \\\n",
       "result             'ENSG00000000938'_exon_2 'ENSG00000000938'_exon_3   \n",
       "barcode                                                                \n",
       "AAACCCACACCGGAAA-1                      NaN                      NaN   \n",
       "AAACCCACACGCAAAG-1                      NaN                      NaN   \n",
       "AAACCCACATAACTCG-1                      NaN                      5.0   \n",
       "AAACCCAGTGAGTCAG-1                      1.0                      NaN   \n",
       "AAACGAACAGTCAGTT-1                      NaN                      1.0   \n",
       "\n",
       "                                                                        \\\n",
       "result             'ENSG00000000938'_other_0 'ENSG00000000938'_other_1   \n",
       "barcode                                                                  \n",
       "AAACCCACACCGGAAA-1                       1.0                       NaN   \n",
       "AAACCCACACGCAAAG-1                       NaN                       NaN   \n",
       "AAACCCACATAACTCG-1                       NaN                       NaN   \n",
       "AAACCCAGTGAGTCAG-1                       NaN                       NaN   \n",
       "AAACGAACAGTCAGTT-1                       NaN                       NaN   \n",
       "\n",
       "                                                                        \n",
       "result             'ENSG00000000938'_other_2 'ENSG00000000938'_other_3  \n",
       "barcode                                                                 \n",
       "AAACCCACACCGGAAA-1                       NaN                       NaN  \n",
       "AAACCCACACGCAAAG-1                       NaN                       NaN  \n",
       "AAACCCACATAACTCG-1                       NaN                       1.0  \n",
       "AAACCCAGTGAGTCAG-1                       NaN                       NaN  \n",
       "AAACGAACAGTCAGTT-1                       NaN                       NaN  "
      ]
     },
     "execution_count": 69,
     "metadata": {},
     "output_type": "execute_result"
    }
   ],
   "source": [
    "counts.head()"
   ]
  },
  {
   "cell_type": "code",
   "execution_count": 70,
   "metadata": {},
   "outputs": [
    {
     "data": {
      "text/plain": [
       "(6411, 8)"
      ]
     },
     "execution_count": 70,
     "metadata": {},
     "output_type": "execute_result"
    }
   ],
   "source": [
    "counts.shape"
   ]
  },
  {
   "cell_type": "code",
   "execution_count": 71,
   "metadata": {},
   "outputs": [
    {
     "data": {
      "text/html": [
       "<div>\n",
       "<style scoped>\n",
       "    .dataframe tbody tr th:only-of-type {\n",
       "        vertical-align: middle;\n",
       "    }\n",
       "\n",
       "    .dataframe tbody tr th {\n",
       "        vertical-align: top;\n",
       "    }\n",
       "\n",
       "    .dataframe thead tr th {\n",
       "        text-align: left;\n",
       "    }\n",
       "\n",
       "    .dataframe thead tr:last-of-type th {\n",
       "        text-align: right;\n",
       "    }\n",
       "</style>\n",
       "<table border=\"1\" class=\"dataframe\">\n",
       "  <thead>\n",
       "    <tr>\n",
       "      <th></th>\n",
       "      <th></th>\n",
       "      <th colspan=\"8\" halign=\"left\">count</th>\n",
       "    </tr>\n",
       "    <tr>\n",
       "      <th></th>\n",
       "      <th>result</th>\n",
       "      <th>'ENSG00000000938'_exon_0</th>\n",
       "      <th>'ENSG00000000938'_exon_1</th>\n",
       "      <th>'ENSG00000000938'_exon_2</th>\n",
       "      <th>'ENSG00000000938'_exon_3</th>\n",
       "      <th>'ENSG00000000938'_other_0</th>\n",
       "      <th>'ENSG00000000938'_other_1</th>\n",
       "      <th>'ENSG00000000938'_other_2</th>\n",
       "      <th>'ENSG00000000938'_other_3</th>\n",
       "    </tr>\n",
       "    <tr>\n",
       "      <th></th>\n",
       "      <th>result</th>\n",
       "      <th></th>\n",
       "      <th></th>\n",
       "      <th></th>\n",
       "      <th></th>\n",
       "      <th></th>\n",
       "      <th></th>\n",
       "      <th></th>\n",
       "      <th></th>\n",
       "    </tr>\n",
       "  </thead>\n",
       "  <tbody>\n",
       "    <tr>\n",
       "      <th rowspan=\"8\" valign=\"top\">count</th>\n",
       "      <th>'ENSG00000000938'_exon_0</th>\n",
       "      <td>1.000000</td>\n",
       "      <td>0.069449</td>\n",
       "      <td>0.043933</td>\n",
       "      <td>0.223720</td>\n",
       "      <td>0.108550</td>\n",
       "      <td>0.012228</td>\n",
       "      <td>0.088675</td>\n",
       "      <td>0.138849</td>\n",
       "    </tr>\n",
       "    <tr>\n",
       "      <th>'ENSG00000000938'_exon_1</th>\n",
       "      <td>0.069449</td>\n",
       "      <td>1.000000</td>\n",
       "      <td>0.061327</td>\n",
       "      <td>0.035014</td>\n",
       "      <td>0.016073</td>\n",
       "      <td>NaN</td>\n",
       "      <td>0.731219</td>\n",
       "      <td>-0.097626</td>\n",
       "    </tr>\n",
       "    <tr>\n",
       "      <th>'ENSG00000000938'_exon_2</th>\n",
       "      <td>0.043933</td>\n",
       "      <td>0.061327</td>\n",
       "      <td>1.000000</td>\n",
       "      <td>0.018572</td>\n",
       "      <td>-0.008968</td>\n",
       "      <td>NaN</td>\n",
       "      <td>0.158114</td>\n",
       "      <td>-0.004784</td>\n",
       "    </tr>\n",
       "    <tr>\n",
       "      <th>'ENSG00000000938'_exon_3</th>\n",
       "      <td>0.223720</td>\n",
       "      <td>0.035014</td>\n",
       "      <td>0.018572</td>\n",
       "      <td>1.000000</td>\n",
       "      <td>-0.015146</td>\n",
       "      <td>0.000000</td>\n",
       "      <td>0.051103</td>\n",
       "      <td>0.027934</td>\n",
       "    </tr>\n",
       "    <tr>\n",
       "      <th>'ENSG00000000938'_other_0</th>\n",
       "      <td>0.108550</td>\n",
       "      <td>0.016073</td>\n",
       "      <td>-0.008968</td>\n",
       "      <td>-0.015146</td>\n",
       "      <td>1.000000</td>\n",
       "      <td>1.000000</td>\n",
       "      <td>0.362401</td>\n",
       "      <td>0.095246</td>\n",
       "    </tr>\n",
       "    <tr>\n",
       "      <th>'ENSG00000000938'_other_1</th>\n",
       "      <td>0.012228</td>\n",
       "      <td>NaN</td>\n",
       "      <td>NaN</td>\n",
       "      <td>0.000000</td>\n",
       "      <td>1.000000</td>\n",
       "      <td>1.000000</td>\n",
       "      <td>NaN</td>\n",
       "      <td>-0.401269</td>\n",
       "    </tr>\n",
       "    <tr>\n",
       "      <th>'ENSG00000000938'_other_2</th>\n",
       "      <td>0.088675</td>\n",
       "      <td>0.731219</td>\n",
       "      <td>0.158114</td>\n",
       "      <td>0.051103</td>\n",
       "      <td>0.362401</td>\n",
       "      <td>NaN</td>\n",
       "      <td>1.000000</td>\n",
       "      <td>0.289503</td>\n",
       "    </tr>\n",
       "    <tr>\n",
       "      <th>'ENSG00000000938'_other_3</th>\n",
       "      <td>0.138849</td>\n",
       "      <td>-0.097626</td>\n",
       "      <td>-0.004784</td>\n",
       "      <td>0.027934</td>\n",
       "      <td>0.095246</td>\n",
       "      <td>-0.401269</td>\n",
       "      <td>0.289503</td>\n",
       "      <td>1.000000</td>\n",
       "    </tr>\n",
       "  </tbody>\n",
       "</table>\n",
       "</div>"
      ],
      "text/plain": [
       "                                                   count  \\\n",
       "result                          'ENSG00000000938'_exon_0   \n",
       "      result                                               \n",
       "count 'ENSG00000000938'_exon_0                  1.000000   \n",
       "      'ENSG00000000938'_exon_1                  0.069449   \n",
       "      'ENSG00000000938'_exon_2                  0.043933   \n",
       "      'ENSG00000000938'_exon_3                  0.223720   \n",
       "      'ENSG00000000938'_other_0                 0.108550   \n",
       "      'ENSG00000000938'_other_1                 0.012228   \n",
       "      'ENSG00000000938'_other_2                 0.088675   \n",
       "      'ENSG00000000938'_other_3                 0.138849   \n",
       "\n",
       "                                                          \\\n",
       "result                          'ENSG00000000938'_exon_1   \n",
       "      result                                               \n",
       "count 'ENSG00000000938'_exon_0                  0.069449   \n",
       "      'ENSG00000000938'_exon_1                  1.000000   \n",
       "      'ENSG00000000938'_exon_2                  0.061327   \n",
       "      'ENSG00000000938'_exon_3                  0.035014   \n",
       "      'ENSG00000000938'_other_0                 0.016073   \n",
       "      'ENSG00000000938'_other_1                      NaN   \n",
       "      'ENSG00000000938'_other_2                 0.731219   \n",
       "      'ENSG00000000938'_other_3                -0.097626   \n",
       "\n",
       "                                                          \\\n",
       "result                          'ENSG00000000938'_exon_2   \n",
       "      result                                               \n",
       "count 'ENSG00000000938'_exon_0                  0.043933   \n",
       "      'ENSG00000000938'_exon_1                  0.061327   \n",
       "      'ENSG00000000938'_exon_2                  1.000000   \n",
       "      'ENSG00000000938'_exon_3                  0.018572   \n",
       "      'ENSG00000000938'_other_0                -0.008968   \n",
       "      'ENSG00000000938'_other_1                      NaN   \n",
       "      'ENSG00000000938'_other_2                 0.158114   \n",
       "      'ENSG00000000938'_other_3                -0.004784   \n",
       "\n",
       "                                                          \\\n",
       "result                          'ENSG00000000938'_exon_3   \n",
       "      result                                               \n",
       "count 'ENSG00000000938'_exon_0                  0.223720   \n",
       "      'ENSG00000000938'_exon_1                  0.035014   \n",
       "      'ENSG00000000938'_exon_2                  0.018572   \n",
       "      'ENSG00000000938'_exon_3                  1.000000   \n",
       "      'ENSG00000000938'_other_0                -0.015146   \n",
       "      'ENSG00000000938'_other_1                 0.000000   \n",
       "      'ENSG00000000938'_other_2                 0.051103   \n",
       "      'ENSG00000000938'_other_3                 0.027934   \n",
       "\n",
       "                                                           \\\n",
       "result                          'ENSG00000000938'_other_0   \n",
       "      result                                                \n",
       "count 'ENSG00000000938'_exon_0                   0.108550   \n",
       "      'ENSG00000000938'_exon_1                   0.016073   \n",
       "      'ENSG00000000938'_exon_2                  -0.008968   \n",
       "      'ENSG00000000938'_exon_3                  -0.015146   \n",
       "      'ENSG00000000938'_other_0                  1.000000   \n",
       "      'ENSG00000000938'_other_1                  1.000000   \n",
       "      'ENSG00000000938'_other_2                  0.362401   \n",
       "      'ENSG00000000938'_other_3                  0.095246   \n",
       "\n",
       "                                                           \\\n",
       "result                          'ENSG00000000938'_other_1   \n",
       "      result                                                \n",
       "count 'ENSG00000000938'_exon_0                   0.012228   \n",
       "      'ENSG00000000938'_exon_1                        NaN   \n",
       "      'ENSG00000000938'_exon_2                        NaN   \n",
       "      'ENSG00000000938'_exon_3                   0.000000   \n",
       "      'ENSG00000000938'_other_0                  1.000000   \n",
       "      'ENSG00000000938'_other_1                  1.000000   \n",
       "      'ENSG00000000938'_other_2                       NaN   \n",
       "      'ENSG00000000938'_other_3                 -0.401269   \n",
       "\n",
       "                                                           \\\n",
       "result                          'ENSG00000000938'_other_2   \n",
       "      result                                                \n",
       "count 'ENSG00000000938'_exon_0                   0.088675   \n",
       "      'ENSG00000000938'_exon_1                   0.731219   \n",
       "      'ENSG00000000938'_exon_2                   0.158114   \n",
       "      'ENSG00000000938'_exon_3                   0.051103   \n",
       "      'ENSG00000000938'_other_0                  0.362401   \n",
       "      'ENSG00000000938'_other_1                       NaN   \n",
       "      'ENSG00000000938'_other_2                  1.000000   \n",
       "      'ENSG00000000938'_other_3                  0.289503   \n",
       "\n",
       "                                                           \n",
       "result                          'ENSG00000000938'_other_3  \n",
       "      result                                               \n",
       "count 'ENSG00000000938'_exon_0                   0.138849  \n",
       "      'ENSG00000000938'_exon_1                  -0.097626  \n",
       "      'ENSG00000000938'_exon_2                  -0.004784  \n",
       "      'ENSG00000000938'_exon_3                   0.027934  \n",
       "      'ENSG00000000938'_other_0                  0.095246  \n",
       "      'ENSG00000000938'_other_1                 -0.401269  \n",
       "      'ENSG00000000938'_other_2                  0.289503  \n",
       "      'ENSG00000000938'_other_3                  1.000000  "
      ]
     },
     "execution_count": 71,
     "metadata": {},
     "output_type": "execute_result"
    }
   ],
   "source": [
    "counts.corr()"
   ]
  },
  {
   "cell_type": "code",
   "execution_count": 224,
   "metadata": {},
   "outputs": [
    {
     "data": {
      "text/plain": [
       "<matplotlib.axes._subplots.AxesSubplot at 0x7feebf09a3d0>"
      ]
     },
     "execution_count": 224,
     "metadata": {},
     "output_type": "execute_result"
    },
    {
     "data": {
      "image/png": "[encoded data removed]",
      "text/plain": [
       "<Figure size 432x288 with 1 Axes>"
      ]
     },
     "metadata": {
      "needs_background": "light"
     },
     "output_type": "display_data"
    }
   ],
   "source": [
    "sns.distplot(summaries.droplevel(0,axis=1)['std'])"
   ]
  },
  {
   "cell_type": "code",
   "execution_count": 330,
   "metadata": {},
   "outputs": [],
   "source": [
    "test = summaries.droplevel(0,axis=1)"
   ]
  },
  {
   "cell_type": "code",
   "execution_count": 236,
   "metadata": {},
   "outputs": [
    {
     "data": {
      "text/html": [
       "<div>\n",
       "<style scoped>\n",
       "    .dataframe tbody tr th:only-of-type {\n",
       "        vertical-align: middle;\n",
       "    }\n",
       "\n",
       "    .dataframe tbody tr th {\n",
       "        vertical-align: top;\n",
       "    }\n",
       "\n",
       "    .dataframe thead th {\n",
       "        text-align: right;\n",
       "    }\n",
       "</style>\n",
       "<table border=\"1\" class=\"dataframe\">\n",
       "  <thead>\n",
       "    <tr style=\"text-align: right;\">\n",
       "      <th></th>\n",
       "      <th>mean</th>\n",
       "      <th>std</th>\n",
       "      <th>count</th>\n",
       "    </tr>\n",
       "    <tr>\n",
       "      <th>result</th>\n",
       "      <th></th>\n",
       "      <th></th>\n",
       "      <th></th>\n",
       "    </tr>\n",
       "  </thead>\n",
       "  <tbody>\n",
       "    <tr>\n",
       "      <th>'ENSG00000124614'_exon_0</th>\n",
       "      <td>2669.952035</td>\n",
       "      <td>1697.359728</td>\n",
       "      <td>198269</td>\n",
       "    </tr>\n",
       "    <tr>\n",
       "      <th>'ENSG00000124614'_exon_1</th>\n",
       "      <td>7265.607262</td>\n",
       "      <td>134.005824</td>\n",
       "      <td>17047</td>\n",
       "    </tr>\n",
       "    <tr>\n",
       "      <th>'ENSG00000124614'_exon_2</th>\n",
       "      <td>91.264996</td>\n",
       "      <td>1.440327</td>\n",
       "      <td>7302</td>\n",
       "    </tr>\n",
       "    <tr>\n",
       "      <th>'ENSG00000124614'_exon_3</th>\n",
       "      <td>168.318201</td>\n",
       "      <td>729.538785</td>\n",
       "      <td>2423</td>\n",
       "    </tr>\n",
       "    <tr>\n",
       "      <th>'ENSG00000124614'_other_0</th>\n",
       "      <td>335.297186</td>\n",
       "      <td>387.274152</td>\n",
       "      <td>21643</td>\n",
       "    </tr>\n",
       "  </tbody>\n",
       "</table>\n",
       "</div>"
      ],
      "text/plain": [
       "                                  mean          std   count\n",
       "result                                                     \n",
       "'ENSG00000124614'_exon_0   2669.952035  1697.359728  198269\n",
       "'ENSG00000124614'_exon_1   7265.607262   134.005824   17047\n",
       "'ENSG00000124614'_exon_2     91.264996     1.440327    7302\n",
       "'ENSG00000124614'_exon_3    168.318201   729.538785    2423\n",
       "'ENSG00000124614'_other_0   335.297186   387.274152   21643"
      ]
     },
     "execution_count": 236,
     "metadata": {},
     "output_type": "execute_result"
    }
   ],
   "source": [
    "test.head()"
   ]
  },
  {
   "cell_type": "code",
   "execution_count": 240,
   "metadata": {},
   "outputs": [
    {
     "data": {
      "text/plain": [
       "(1, 100)"
      ]
     },
     "execution_count": 240,
     "metadata": {},
     "output_type": "execute_result"
    },
    {
     "data": {
      "image/png": "[encoded data removed]",
      "text/plain": [
       "<Figure size 432x288 with 1 Axes>"
      ]
     },
     "metadata": {
      "needs_background": "light"
     },
     "output_type": "display_data"
    }
   ],
   "source": [
    "sns.distplot(test[(test['count'] < 100)]['count'])\n",
    "plt.xlim(1,100)"
   ]
  },
  {
   "cell_type": "code",
   "execution_count": 331,
   "metadata": {},
   "outputs": [
    {
     "data": {
      "text/plain": [
       "<matplotlib.axes._subplots.AxesSubplot at 0x7ff241482e50>"
      ]
     },
     "execution_count": 331,
     "metadata": {},
     "output_type": "execute_result"
    },
    {
     "data": {
      "image/png": "[encoded data removed]",
      "text/plain": [
       "<Figure size 432x288 with 1 Axes>"
      ]
     },
     "metadata": {
      "needs_background": "light"
     },
     "output_type": "display_data"
    }
   ],
   "source": [
    "sns.distplot(test['mean'])\n"
   ]
  },
  {
   "cell_type": "code",
   "execution_count": 135,
   "metadata": {},
   "outputs": [],
   "source": [
    "os.chdir('/Users/beth/Desktop')"
   ]
  },
  {
   "cell_type": "code",
   "execution_count": 136,
   "metadata": {},
   "outputs": [],
   "source": [
    "! touch test_new.h5"
   ]
  },
  {
   "cell_type": "code",
   "execution_count": 137,
   "metadata": {},
   "outputs": [],
   "source": [
    "def new_h5(counts,summaries,dset_file,new_dset_file):\n",
    "    'takes counts and summaries output of seperate_into_peaks function'\n",
    "    #load the dset_file\n",
    "    dset = h5py.File(dset_file, 'r')\n",
    "    dset = dset['matrix']\n",
    "    indices = dset['indices']\n",
    "    data = dset['data']\n",
    "    features = dset['features']\n",
    "    ids = features['id']\n",
    "    \n",
    "    #create the dset2 file and matrix group with barcodes and features group\n",
    "    dset2 = h5py.File(new_dset_file, 'w')\n",
    "    dset2.create_group('matrix')\n",
    "    dset2['matrix'].create_dataset('barcodes', data = np.array(dset['barcodes']))\n",
    "    dset2['matrix'].create_group('features')\n",
    "    \n",
    "    #add the new features to the old features ids\n",
    "    summaries = summaries.reset_index()\n",
    "    summaries['result'] = summaries['result'].str.replace(\"'\",\"\")\n",
    "    old_genes = np.array(dset['features']['id'],dtype=\"|S30\")\n",
    "    new_genes = np.array(summaries['result'],dtype='|S30')\n",
    "    dset2['matrix']['features'].create_dataset('id', data = np.append(old_genes,new_genes), dtype='|S30')\n",
    "    \n",
    "    #add the new features to the old features names\n",
    "    old_genes_names = np.array(dset['features']['name'])\n",
    "    dset2['matrix']['features'].create_dataset('name', data = np.append(old_genes_names, new_genes), dtype=\"|S30\")\n",
    "    \n",
    "    #add extended genome array\n",
    "    genome = dset['features']['genome'][0]\n",
    "    genome = np.repeat(genome,dset2['matrix']['features']['id'].shape[0])\n",
    "    dset2['matrix']['features'].create_dataset('genome', data = genome, dtype = \"|S6\")\n",
    "    \n",
    "    #add extended feature type array \n",
    "    feature_type = dset['features']['feature_type'][0]\n",
    "    feature_type = np.repeat(feature_type,dset2['matrix']['features']['id'].shape[0])\n",
    "    dset2['matrix']['features'].create_dataset('feature_type', data=feature_type, dtype = \"|S15\")\n",
    "    \n",
    "    #add tag\n",
    "    tag = dset['features']['_all_tag_keys'][0]\n",
    "    tag = np.array(tag,dtype='|S6')\n",
    "    dset2['matrix']['features'].create_dataset('_all_tag_keys', data = tag, dtype = \"|S6\")\n",
    "    \n",
    "    #get a list of all features\n",
    "    gene_list = list(pd.Series(dset2['matrix']['features']['id']).astype('str').str.replace('b','').str.replace(\"'\",''))\n",
    "    \n",
    "    #get a list of all barcodes\n",
    "    barcodes = list(pd.Series(dset['barcodes']).astype('str').str.replace('b','').str.replace(\"'\",''))\n",
    "    \n",
    "    #update the indptr, data and indices arrays from the original dset by inserting new data\n",
    "    indptr = np.array(dset['indptr'])\n",
    "    data = np.array(dset['data'])\n",
    "    indices = np.array(dset['indices'])\n",
    "    counts = counts.reset_index()\n",
    "    counts['result'] = counts['result'].str.replace(\"'\",'')\n",
    "    \n",
    "    for i,b in enumerate(sorted(list(counts['barcode'].unique()))):\n",
    "        if i % 1000 == 0:\n",
    "            print(i)\n",
    "        if b in barcodes:\n",
    "            cell_counts = counts[counts['barcode']==b]\n",
    "            cell_counts['gene_indice']=cell_counts['result'].map(lambda x: gene_list.index(x))\n",
    "            cell_counts = cell_counts.sort_values(by='gene_indice')\n",
    "            i = barcodes.index(b)\n",
    "            pos = indptr[i]\n",
    "            data = np.insert(data,pos,cell_counts['count'])              \n",
    "            indices = np.insert(indices,pos,cell_counts['gene_indice'])\n",
    "            indptr = np.append(indptr[:i+1],indptr[i+1:]+len(cell_counts))\n",
    "        else: \n",
    "            continue\n",
    "    \n",
    "    #put the updated arrays in the new dset\n",
    "    dset2['matrix'].create_dataset('indptr', data = indptr)\n",
    "    dset2['matrix'].create_dataset('data', data = data)\n",
    "    dset2['matrix'].create_dataset('indices', data = indices)\n",
    "    \n",
    "    #put the new matrix shape in the new dset\n",
    "    new_shape =np.array([len(dset2['matrix']['features']['id']), len(dset2['matrix']['barcodes'])], dtype='int32')\n",
    "    dset2['matrix'].create_dataset('shape', data = new_shape, dtype='int32')\n",
    "    \n",
    "    return dset2"
   ]
  },
  {
   "cell_type": "code",
   "execution_count": 6,
   "metadata": {},
   "outputs": [],
   "source": [
    "os.chdir('/Users/beth/Desktop')"
   ]
  },
  {
   "cell_type": "code",
   "execution_count": 138,
   "metadata": {
    "collapsed": true,
    "jupyter": {
     "outputs_hidden": true
    }
   },
   "outputs": [
    {
     "name": "stdout",
     "output_type": "stream",
     "text": [
      "0\n"
     ]
    },
    {
     "name": "stderr",
     "output_type": "stream",
     "text": [
      "/opt/anaconda3/lib/python3.7/site-packages/ipykernel_launcher.py:61: SettingWithCopyWarning: \n",
      "A value is trying to be set on a copy of a slice from a DataFrame.\n",
      "Try using .loc[row_indexer,col_indexer] = value instead\n",
      "\n",
      "See the caveats in the documentation: https://pandas.pydata.org/pandas-docs/stable/user_guide/indexing.html#returning-a-view-versus-a-copy\n"
     ]
    },
    {
     "name": "stdout",
     "output_type": "stream",
     "text": [
      "1000\n",
      "2000\n",
      "3000\n",
      "4000\n",
      "5000\n",
      "6000\n",
      "7000\n",
      "8000\n",
      "9000\n",
      "10000\n",
      "11000\n",
      "12000\n",
      "13000\n",
      "14000\n",
      "15000\n",
      "16000\n",
      "17000\n",
      "18000\n",
      "19000\n",
      "20000\n",
      "21000\n",
      "22000\n",
      "23000\n",
      "24000\n",
      "25000\n",
      "26000\n",
      "27000\n",
      "28000\n",
      "29000\n",
      "30000\n",
      "31000\n",
      "32000\n",
      "33000\n",
      "34000\n",
      "35000\n",
      "36000\n",
      "37000\n",
      "38000\n",
      "39000\n",
      "40000\n",
      "41000\n",
      "42000\n",
      "43000\n",
      "44000\n",
      "45000\n",
      "46000\n",
      "47000\n",
      "48000\n",
      "49000\n",
      "50000\n",
      "51000\n",
      "52000\n",
      "53000\n",
      "54000\n",
      "55000\n",
      "56000\n",
      "57000\n",
      "58000\n",
      "59000\n",
      "60000\n",
      "61000\n",
      "62000\n",
      "63000\n",
      "64000\n",
      "65000\n",
      "66000\n",
      "67000\n",
      "68000\n",
      "69000\n",
      "70000\n",
      "71000\n",
      "72000\n",
      "73000\n",
      "74000\n",
      "75000\n",
      "76000\n",
      "77000\n",
      "78000\n",
      "79000\n",
      "80000\n",
      "81000\n",
      "82000\n",
      "83000\n",
      "84000\n",
      "85000\n",
      "86000\n",
      "87000\n",
      "88000\n",
      "89000\n",
      "90000\n",
      "91000\n",
      "92000\n",
      "93000\n",
      "94000\n",
      "95000\n",
      "96000\n",
      "97000\n",
      "98000\n",
      "99000\n",
      "100000\n",
      "101000\n",
      "102000\n",
      "103000\n",
      "104000\n",
      "105000\n",
      "106000\n",
      "107000\n",
      "108000\n",
      "109000\n",
      "110000\n",
      "111000\n",
      "112000\n",
      "113000\n",
      "114000\n",
      "115000\n",
      "116000\n",
      "117000\n",
      "118000\n",
      "119000\n",
      "120000\n",
      "121000\n",
      "122000\n",
      "123000\n",
      "124000\n",
      "125000\n",
      "126000\n",
      "127000\n",
      "128000\n",
      "129000\n",
      "130000\n",
      "131000\n",
      "132000\n",
      "133000\n",
      "134000\n",
      "135000\n",
      "136000\n",
      "137000\n",
      "138000\n",
      "139000\n",
      "140000\n",
      "141000\n",
      "142000\n",
      "143000\n",
      "144000\n",
      "145000\n",
      "146000\n",
      "147000\n",
      "148000\n",
      "149000\n",
      "150000\n",
      "151000\n",
      "152000\n",
      "153000\n",
      "154000\n",
      "155000\n",
      "156000\n",
      "157000\n",
      "158000\n",
      "159000\n",
      "160000\n",
      "161000\n",
      "162000\n",
      "163000\n",
      "164000\n",
      "165000\n",
      "166000\n",
      "167000\n",
      "168000\n",
      "169000\n",
      "170000\n",
      "171000\n",
      "172000\n",
      "173000\n",
      "174000\n",
      "175000\n",
      "176000\n",
      "177000\n",
      "178000\n",
      "179000\n",
      "180000\n",
      "181000\n",
      "182000\n",
      "183000\n",
      "184000\n",
      "185000\n",
      "186000\n",
      "187000\n",
      "188000\n",
      "189000\n",
      "190000\n",
      "191000\n",
      "192000\n",
      "193000\n",
      "194000\n",
      "195000\n",
      "196000\n",
      "197000\n",
      "198000\n",
      "199000\n",
      "200000\n",
      "201000\n",
      "202000\n",
      "203000\n",
      "204000\n",
      "205000\n",
      "206000\n",
      "207000\n",
      "208000\n",
      "209000\n",
      "210000\n",
      "211000\n",
      "212000\n",
      "213000\n",
      "214000\n",
      "215000\n",
      "216000\n",
      "217000\n",
      "218000\n",
      "219000\n",
      "220000\n",
      "221000\n",
      "222000\n",
      "223000\n",
      "224000\n",
      "225000\n",
      "226000\n",
      "227000\n",
      "228000\n",
      "229000\n",
      "230000\n",
      "231000\n",
      "232000\n",
      "233000\n",
      "234000\n",
      "235000\n",
      "236000\n",
      "237000\n",
      "238000\n",
      "239000\n",
      "240000\n",
      "241000\n",
      "242000\n",
      "243000\n",
      "244000\n",
      "245000\n",
      "246000\n",
      "247000\n",
      "248000\n",
      "249000\n",
      "250000\n",
      "251000\n",
      "252000\n",
      "253000\n",
      "254000\n",
      "255000\n",
      "256000\n",
      "257000\n",
      "258000\n",
      "259000\n",
      "260000\n",
      "261000\n",
      "262000\n",
      "263000\n",
      "264000\n",
      "265000\n",
      "266000\n",
      "267000\n",
      "268000\n",
      "269000\n",
      "270000\n",
      "271000\n",
      "272000\n",
      "273000\n",
      "274000\n",
      "275000\n",
      "276000\n",
      "277000\n",
      "278000\n",
      "279000\n",
      "280000\n",
      "281000\n",
      "282000\n",
      "283000\n",
      "284000\n",
      "285000\n",
      "286000\n",
      "287000\n",
      "288000\n",
      "289000\n",
      "290000\n",
      "291000\n",
      "292000\n",
      "293000\n",
      "294000\n",
      "295000\n",
      "296000\n",
      "297000\n",
      "298000\n",
      "299000\n",
      "300000\n",
      "301000\n",
      "302000\n",
      "303000\n",
      "304000\n",
      "305000\n",
      "306000\n",
      "307000\n",
      "308000\n",
      "309000\n",
      "310000\n",
      "311000\n",
      "312000\n",
      "313000\n",
      "314000\n",
      "315000\n",
      "316000\n",
      "317000\n",
      "318000\n",
      "319000\n",
      "320000\n",
      "321000\n",
      "322000\n",
      "323000\n",
      "324000\n",
      "325000\n",
      "326000\n",
      "327000\n",
      "328000\n",
      "329000\n",
      "330000\n",
      "331000\n",
      "332000\n",
      "333000\n",
      "334000\n",
      "335000\n",
      "336000\n",
      "337000\n",
      "338000\n",
      "339000\n",
      "340000\n",
      "341000\n",
      "342000\n",
      "343000\n",
      "344000\n",
      "345000\n",
      "346000\n",
      "347000\n",
      "348000\n",
      "349000\n",
      "350000\n",
      "351000\n",
      "352000\n",
      "353000\n",
      "354000\n",
      "355000\n",
      "356000\n",
      "357000\n",
      "358000\n",
      "359000\n",
      "360000\n",
      "361000\n",
      "362000\n",
      "363000\n",
      "364000\n",
      "365000\n",
      "366000\n",
      "367000\n",
      "368000\n",
      "369000\n",
      "370000\n",
      "371000\n",
      "372000\n",
      "373000\n",
      "374000\n",
      "375000\n",
      "376000\n",
      "377000\n",
      "378000\n",
      "379000\n",
      "380000\n",
      "381000\n",
      "382000\n",
      "383000\n",
      "384000\n",
      "385000\n",
      "386000\n",
      "387000\n",
      "388000\n",
      "389000\n",
      "390000\n",
      "391000\n",
      "392000\n",
      "393000\n",
      "394000\n",
      "395000\n",
      "396000\n",
      "397000\n",
      "398000\n",
      "399000\n",
      "400000\n",
      "401000\n",
      "402000\n",
      "403000\n",
      "404000\n",
      "405000\n",
      "406000\n",
      "407000\n",
      "408000\n",
      "409000\n",
      "410000\n",
      "411000\n",
      "412000\n",
      "413000\n",
      "414000\n",
      "415000\n",
      "416000\n",
      "417000\n",
      "418000\n",
      "419000\n",
      "420000\n",
      "421000\n",
      "422000\n",
      "423000\n",
      "424000\n",
      "425000\n",
      "426000\n",
      "427000\n",
      "428000\n",
      "429000\n",
      "430000\n",
      "431000\n",
      "432000\n",
      "433000\n",
      "434000\n",
      "435000\n",
      "436000\n",
      "437000\n",
      "438000\n",
      "439000\n",
      "440000\n",
      "441000\n",
      "442000\n",
      "443000\n",
      "444000\n",
      "445000\n",
      "446000\n",
      "447000\n",
      "448000\n",
      "449000\n",
      "450000\n",
      "451000\n",
      "452000\n",
      "453000\n",
      "454000\n",
      "455000\n",
      "456000\n",
      "457000\n",
      "458000\n",
      "459000\n",
      "460000\n",
      "461000\n",
      "462000\n",
      "463000\n",
      "464000\n",
      "465000\n",
      "466000\n",
      "467000\n",
      "468000\n",
      "469000\n",
      "470000\n",
      "471000\n",
      "472000\n",
      "473000\n",
      "474000\n",
      "475000\n",
      "476000\n",
      "477000\n",
      "478000\n",
      "479000\n",
      "480000\n",
      "481000\n",
      "482000\n",
      "483000\n",
      "484000\n",
      "485000\n",
      "486000\n",
      "487000\n",
      "488000\n",
      "489000\n",
      "490000\n",
      "491000\n",
      "492000\n",
      "493000\n",
      "494000\n",
      "495000\n",
      "496000\n",
      "497000\n",
      "498000\n",
      "499000\n",
      "500000\n",
      "501000\n",
      "502000\n",
      "503000\n",
      "504000\n",
      "505000\n",
      "506000\n",
      "507000\n",
      "508000\n",
      "509000\n",
      "510000\n",
      "511000\n",
      "512000\n",
      "513000\n",
      "514000\n",
      "515000\n",
      "516000\n",
      "517000\n",
      "518000\n",
      "519000\n",
      "520000\n",
      "521000\n",
      "522000\n",
      "523000\n",
      "524000\n",
      "525000\n",
      "526000\n",
      "527000\n",
      "528000\n",
      "529000\n",
      "530000\n",
      "531000\n",
      "532000\n",
      "533000\n",
      "534000\n",
      "535000\n",
      "536000\n",
      "537000\n",
      "538000\n",
      "539000\n",
      "540000\n",
      "541000\n",
      "542000\n",
      "543000\n",
      "544000\n",
      "545000\n",
      "546000\n",
      "547000\n",
      "548000\n",
      "549000\n",
      "550000\n",
      "551000\n",
      "552000\n"
     ]
    }
   ],
   "source": [
    "dset2 = new_h5(counts,summaries,'Parent_NGSC3_DI_PBMC_filtered_feature_bc_matrix.h5','test_new.h5')"
   ]
  },
  {
   "cell_type": "code",
   "execution_count": 140,
   "metadata": {},
   "outputs": [
    {
     "data": {
      "text/plain": [
       "<KeysViewHDF5 ['barcodes', 'data', 'features', 'indices', 'indptr', 'shape']>"
      ]
     },
     "execution_count": 140,
     "metadata": {},
     "output_type": "execute_result"
    }
   ],
   "source": [
    "dset2['matrix'].keys()"
   ]
  },
  {
   "cell_type": "code",
   "execution_count": 238,
   "metadata": {},
   "outputs": [],
   "source": [
    "def peak_correlations(base_gene_id, counts):\n",
    "    counts = counts.reset_index()\n",
    "    counts = counts.loc[counts['result'].str.contains(base_gene_id),].pivot(index = 'barcode', columns = \"result\")\n",
    "    return counts.corr()"
   ]
  },
  {
   "cell_type": "code",
   "execution_count": 239,
   "metadata": {},
   "outputs": [
    {
     "data": {
      "text/html": [
       "<div>\n",
       "<style scoped>\n",
       "    .dataframe tbody tr th:only-of-type {\n",
       "        vertical-align: middle;\n",
       "    }\n",
       "\n",
       "    .dataframe tbody tr th {\n",
       "        vertical-align: top;\n",
       "    }\n",
       "\n",
       "    .dataframe thead tr th {\n",
       "        text-align: left;\n",
       "    }\n",
       "\n",
       "    .dataframe thead tr:last-of-type th {\n",
       "        text-align: right;\n",
       "    }\n",
       "</style>\n",
       "<table border=\"1\" class=\"dataframe\">\n",
       "  <thead>\n",
       "    <tr>\n",
       "      <th></th>\n",
       "      <th></th>\n",
       "      <th colspan=\"7\" halign=\"left\">count</th>\n",
       "    </tr>\n",
       "    <tr>\n",
       "      <th></th>\n",
       "      <th>result</th>\n",
       "      <th>'ENSG00000204257'_exon_0</th>\n",
       "      <th>'ENSG00000204257'_exon_1</th>\n",
       "      <th>'ENSG00000204257'_exon_2</th>\n",
       "      <th>'ENSG00000204257'_exon_3</th>\n",
       "      <th>'ENSG00000204257'_other_0</th>\n",
       "      <th>'ENSG00000204257'_other_1</th>\n",
       "      <th>'ENSG00000204257'_other_2</th>\n",
       "    </tr>\n",
       "    <tr>\n",
       "      <th></th>\n",
       "      <th>result</th>\n",
       "      <th></th>\n",
       "      <th></th>\n",
       "      <th></th>\n",
       "      <th></th>\n",
       "      <th></th>\n",
       "      <th></th>\n",
       "      <th></th>\n",
       "    </tr>\n",
       "  </thead>\n",
       "  <tbody>\n",
       "    <tr>\n",
       "      <th rowspan=\"7\" valign=\"top\">count</th>\n",
       "      <th>'ENSG00000204257'_exon_0</th>\n",
       "      <td>1.000000</td>\n",
       "      <td>NaN</td>\n",
       "      <td>0.414537</td>\n",
       "      <td>0.170148</td>\n",
       "      <td>0.155229</td>\n",
       "      <td>NaN</td>\n",
       "      <td>0.165643</td>\n",
       "    </tr>\n",
       "    <tr>\n",
       "      <th>'ENSG00000204257'_exon_1</th>\n",
       "      <td>NaN</td>\n",
       "      <td>1.000000</td>\n",
       "      <td>0.007778</td>\n",
       "      <td>NaN</td>\n",
       "      <td>NaN</td>\n",
       "      <td>NaN</td>\n",
       "      <td>NaN</td>\n",
       "    </tr>\n",
       "    <tr>\n",
       "      <th>'ENSG00000204257'_exon_2</th>\n",
       "      <td>0.414537</td>\n",
       "      <td>0.007778</td>\n",
       "      <td>1.000000</td>\n",
       "      <td>0.212875</td>\n",
       "      <td>0.227897</td>\n",
       "      <td>NaN</td>\n",
       "      <td>0.137252</td>\n",
       "    </tr>\n",
       "    <tr>\n",
       "      <th>'ENSG00000204257'_exon_3</th>\n",
       "      <td>0.170148</td>\n",
       "      <td>NaN</td>\n",
       "      <td>0.212875</td>\n",
       "      <td>1.000000</td>\n",
       "      <td>0.037449</td>\n",
       "      <td>NaN</td>\n",
       "      <td>-0.218218</td>\n",
       "    </tr>\n",
       "    <tr>\n",
       "      <th>'ENSG00000204257'_other_0</th>\n",
       "      <td>0.155229</td>\n",
       "      <td>NaN</td>\n",
       "      <td>0.227897</td>\n",
       "      <td>0.037449</td>\n",
       "      <td>1.000000</td>\n",
       "      <td>NaN</td>\n",
       "      <td>-0.161359</td>\n",
       "    </tr>\n",
       "    <tr>\n",
       "      <th>'ENSG00000204257'_other_1</th>\n",
       "      <td>NaN</td>\n",
       "      <td>NaN</td>\n",
       "      <td>NaN</td>\n",
       "      <td>NaN</td>\n",
       "      <td>NaN</td>\n",
       "      <td>NaN</td>\n",
       "      <td>NaN</td>\n",
       "    </tr>\n",
       "    <tr>\n",
       "      <th>'ENSG00000204257'_other_2</th>\n",
       "      <td>0.165643</td>\n",
       "      <td>NaN</td>\n",
       "      <td>0.137252</td>\n",
       "      <td>-0.218218</td>\n",
       "      <td>-0.161359</td>\n",
       "      <td>NaN</td>\n",
       "      <td>1.000000</td>\n",
       "    </tr>\n",
       "  </tbody>\n",
       "</table>\n",
       "</div>"
      ],
      "text/plain": [
       "                                                   count  \\\n",
       "result                          'ENSG00000204257'_exon_0   \n",
       "      result                                               \n",
       "count 'ENSG00000204257'_exon_0                  1.000000   \n",
       "      'ENSG00000204257'_exon_1                       NaN   \n",
       "      'ENSG00000204257'_exon_2                  0.414537   \n",
       "      'ENSG00000204257'_exon_3                  0.170148   \n",
       "      'ENSG00000204257'_other_0                 0.155229   \n",
       "      'ENSG00000204257'_other_1                      NaN   \n",
       "      'ENSG00000204257'_other_2                 0.165643   \n",
       "\n",
       "                                                          \\\n",
       "result                          'ENSG00000204257'_exon_1   \n",
       "      result                                               \n",
       "count 'ENSG00000204257'_exon_0                       NaN   \n",
       "      'ENSG00000204257'_exon_1                  1.000000   \n",
       "      'ENSG00000204257'_exon_2                  0.007778   \n",
       "      'ENSG00000204257'_exon_3                       NaN   \n",
       "      'ENSG00000204257'_other_0                      NaN   \n",
       "      'ENSG00000204257'_other_1                      NaN   \n",
       "      'ENSG00000204257'_other_2                      NaN   \n",
       "\n",
       "                                                          \\\n",
       "result                          'ENSG00000204257'_exon_2   \n",
       "      result                                               \n",
       "count 'ENSG00000204257'_exon_0                  0.414537   \n",
       "      'ENSG00000204257'_exon_1                  0.007778   \n",
       "      'ENSG00000204257'_exon_2                  1.000000   \n",
       "      'ENSG00000204257'_exon_3                  0.212875   \n",
       "      'ENSG00000204257'_other_0                 0.227897   \n",
       "      'ENSG00000204257'_other_1                      NaN   \n",
       "      'ENSG00000204257'_other_2                 0.137252   \n",
       "\n",
       "                                                          \\\n",
       "result                          'ENSG00000204257'_exon_3   \n",
       "      result                                               \n",
       "count 'ENSG00000204257'_exon_0                  0.170148   \n",
       "      'ENSG00000204257'_exon_1                       NaN   \n",
       "      'ENSG00000204257'_exon_2                  0.212875   \n",
       "      'ENSG00000204257'_exon_3                  1.000000   \n",
       "      'ENSG00000204257'_other_0                 0.037449   \n",
       "      'ENSG00000204257'_other_1                      NaN   \n",
       "      'ENSG00000204257'_other_2                -0.218218   \n",
       "\n",
       "                                                           \\\n",
       "result                          'ENSG00000204257'_other_0   \n",
       "      result                                                \n",
       "count 'ENSG00000204257'_exon_0                   0.155229   \n",
       "      'ENSG00000204257'_exon_1                        NaN   \n",
       "      'ENSG00000204257'_exon_2                   0.227897   \n",
       "      'ENSG00000204257'_exon_3                   0.037449   \n",
       "      'ENSG00000204257'_other_0                  1.000000   \n",
       "      'ENSG00000204257'_other_1                       NaN   \n",
       "      'ENSG00000204257'_other_2                 -0.161359   \n",
       "\n",
       "                                                           \\\n",
       "result                          'ENSG00000204257'_other_1   \n",
       "      result                                                \n",
       "count 'ENSG00000204257'_exon_0                        NaN   \n",
       "      'ENSG00000204257'_exon_1                        NaN   \n",
       "      'ENSG00000204257'_exon_2                        NaN   \n",
       "      'ENSG00000204257'_exon_3                        NaN   \n",
       "      'ENSG00000204257'_other_0                       NaN   \n",
       "      'ENSG00000204257'_other_1                       NaN   \n",
       "      'ENSG00000204257'_other_2                       NaN   \n",
       "\n",
       "                                                           \n",
       "result                          'ENSG00000204257'_other_2  \n",
       "      result                                               \n",
       "count 'ENSG00000204257'_exon_0                   0.165643  \n",
       "      'ENSG00000204257'_exon_1                        NaN  \n",
       "      'ENSG00000204257'_exon_2                   0.137252  \n",
       "      'ENSG00000204257'_exon_3                  -0.218218  \n",
       "      'ENSG00000204257'_other_0                 -0.161359  \n",
       "      'ENSG00000204257'_other_1                       NaN  \n",
       "      'ENSG00000204257'_other_2                  1.000000  "
      ]
     },
     "execution_count": 239,
     "metadata": {},
     "output_type": "execute_result"
    }
   ],
   "source": [
    "peak_correlations('ENSG00000204257', counts)"
   ]
  },
  {
   "cell_type": "code",
   "execution_count": null,
   "metadata": {},
   "outputs": [],
   "source": []
  },
  {
   "cell_type": "code",
   "execution_count": 200,
   "metadata": {},
   "outputs": [
    {
     "data": {
      "text/plain": [
       "index                                                         9\n",
       "gene_id                                       'ENSG00000147604'\n",
       "chrom                                                      chr8\n",
       "exons         [3557, 3558, 3559, 3560, 3561, 3562, 3563, 356...\n",
       "barcodes      [CATTTCATCCTACCAC-1, ACGGTCGTCTCTAAGG-1, TCCGA...\n",
       "read_stops    [54262, 143183, 30356, 861, 986, 8717, 87907, ...\n",
       "Name: 9, dtype: object"
      ]
     },
     "execution_count": 200,
     "metadata": {},
     "output_type": "execute_result"
    }
   ],
   "source": [
    "df.iloc[9,]"
   ]
  },
  {
   "cell_type": "code",
   "execution_count": 201,
   "metadata": {},
   "outputs": [],
   "source": [
    "test = df[df['gene_id']==\"'ENSG00000124614'\"]"
   ]
  },
  {
   "cell_type": "code",
   "execution_count": 202,
   "metadata": {},
   "outputs": [
    {
     "data": {
      "text/html": [
       "<div>\n",
       "<style scoped>\n",
       "    .dataframe tbody tr th:only-of-type {\n",
       "        vertical-align: middle;\n",
       "    }\n",
       "\n",
       "    .dataframe tbody tr th {\n",
       "        vertical-align: top;\n",
       "    }\n",
       "\n",
       "    .dataframe thead th {\n",
       "        text-align: right;\n",
       "    }\n",
       "</style>\n",
       "<table border=\"1\" class=\"dataframe\">\n",
       "  <thead>\n",
       "    <tr style=\"text-align: right;\">\n",
       "      <th></th>\n",
       "      <th>index</th>\n",
       "      <th>gene_id</th>\n",
       "      <th>chrom</th>\n",
       "      <th>exons</th>\n",
       "      <th>barcodes</th>\n",
       "      <th>read_stops</th>\n",
       "    </tr>\n",
       "  </thead>\n",
       "  <tbody>\n",
       "    <tr>\n",
       "      <th>0</th>\n",
       "      <td>0</td>\n",
       "      <td>'ENSG00000124614'</td>\n",
       "      <td>chr6</td>\n",
       "      <td>[0, 1, 2, 3, 4, 5, 6, 7, 8, 9, 10, 11, 12, 13,...</td>\n",
       "      <td>[GGGAGTACAGAGTGTG-1, TGTGATGCAGTTTCAG-1, GTAAT...</td>\n",
       "      <td>[7292, 334840, 53004, 165139, 357994, 211003, ...</td>\n",
       "    </tr>\n",
       "  </tbody>\n",
       "</table>\n",
       "</div>"
      ],
      "text/plain": [
       "   index            gene_id chrom  \\\n",
       "0      0  'ENSG00000124614'  chr6   \n",
       "\n",
       "                                               exons  \\\n",
       "0  [0, 1, 2, 3, 4, 5, 6, 7, 8, 9, 10, 11, 12, 13,...   \n",
       "\n",
       "                                            barcodes  \\\n",
       "0  [GGGAGTACAGAGTGTG-1, TGTGATGCAGTTTCAG-1, GTAAT...   \n",
       "\n",
       "                                          read_stops  \n",
       "0  [7292, 334840, 53004, 165139, 357994, 211003, ...  "
      ]
     },
     "execution_count": 202,
     "metadata": {},
     "output_type": "execute_result"
    }
   ],
   "source": [
    "test.head()"
   ]
  },
  {
   "cell_type": "code",
   "execution_count": 209,
   "metadata": {},
   "outputs": [
    {
     "data": {
      "text/html": [
       "<div>\n",
       "<style scoped>\n",
       "    .dataframe tbody tr th:only-of-type {\n",
       "        vertical-align: middle;\n",
       "    }\n",
       "\n",
       "    .dataframe tbody tr th {\n",
       "        vertical-align: top;\n",
       "    }\n",
       "\n",
       "    .dataframe thead th {\n",
       "        text-align: right;\n",
       "    }\n",
       "</style>\n",
       "<table border=\"1\" class=\"dataframe\">\n",
       "  <thead>\n",
       "    <tr style=\"text-align: right;\">\n",
       "      <th></th>\n",
       "      <th>index</th>\n",
       "      <th>gene_id</th>\n",
       "      <th>chrom</th>\n",
       "      <th>exons</th>\n",
       "      <th>barcodes</th>\n",
       "      <th>read_stops</th>\n",
       "    </tr>\n",
       "  </thead>\n",
       "  <tbody>\n",
       "    <tr>\n",
       "      <th>0</th>\n",
       "      <td>0</td>\n",
       "      <td>'ENSG00000124614'</td>\n",
       "      <td>chr6</td>\n",
       "      <td>[0, 1, 2, 3, 4, 5, 6, 7, 8, 9, 10, 11, 12, 13,...</td>\n",
       "      <td>[GGGAGTACAGAGTGTG-1, TGTGATGCAGTTTCAG-1, GTAAT...</td>\n",
       "      <td>[7292, 334840, 53004, 165139, 357994, 211003, ...</td>\n",
       "    </tr>\n",
       "    <tr>\n",
       "      <th>1</th>\n",
       "      <td>1</td>\n",
       "      <td>'ENSG00000204628'</td>\n",
       "      <td>chr5</td>\n",
       "      <td>[3307, 3308, 3309, 3310, 3311, 3312, 3313, 331...</td>\n",
       "      <td>[ATTCCCGTCCAAACCA-1, AGAAGCGCAACGGGTA-1, TCACG...</td>\n",
       "      <td>[68499, 776, 109, 1261, 111, 785, 785, 785, 89...</td>\n",
       "    </tr>\n",
       "    <tr>\n",
       "      <th>2</th>\n",
       "      <td>2</td>\n",
       "      <td>'ENSG00000114391'</td>\n",
       "      <td>chr3</td>\n",
       "      <td>[0, 1, 2, 3, 4, 5, 6, 7, 8, 9, 10, 11, 12, 13,...</td>\n",
       "      <td>[CAATCGAGTTGCGGCT-1, ATTCACTTCAGGCGAA-1, TACGG...</td>\n",
       "      <td>[77, 178240, 250634, 180083, 134565, 24195, 21...</td>\n",
       "    </tr>\n",
       "    <tr>\n",
       "      <th>3</th>\n",
       "      <td>3</td>\n",
       "      <td>'ENSG00000026025'</td>\n",
       "      <td>chr10</td>\n",
       "      <td>[7709, 7710, 7711, 7712, 7713, 7714, 7715, 771...</td>\n",
       "      <td>[GTAGGTTAGGGATCAC-1, CATGGATTCTCCCATG-1, CTGCC...</td>\n",
       "      <td>[63689, 6151, 5780, 220549, 6060, 299866, 6028...</td>\n",
       "    </tr>\n",
       "    <tr>\n",
       "      <th>4</th>\n",
       "      <td>4</td>\n",
       "      <td>'ENSG00000184009'</td>\n",
       "      <td>chr17</td>\n",
       "      <td>[429, 430, 431, 432, 433, 434, 435, 436, 437, ...</td>\n",
       "      <td>[GTGTTAGCATATCGGT-1, TATATCCGTTGTACGT-1, ACAAC...</td>\n",
       "      <td>[127861, 56287, 75, 75, 75, 75, 75, 71, 205, 1...</td>\n",
       "    </tr>\n",
       "  </tbody>\n",
       "</table>\n",
       "</div>"
      ],
      "text/plain": [
       "   index            gene_id  chrom  \\\n",
       "0      0  'ENSG00000124614'   chr6   \n",
       "1      1  'ENSG00000204628'   chr5   \n",
       "2      2  'ENSG00000114391'   chr3   \n",
       "3      3  'ENSG00000026025'  chr10   \n",
       "4      4  'ENSG00000184009'  chr17   \n",
       "\n",
       "                                               exons  \\\n",
       "0  [0, 1, 2, 3, 4, 5, 6, 7, 8, 9, 10, 11, 12, 13,...   \n",
       "1  [3307, 3308, 3309, 3310, 3311, 3312, 3313, 331...   \n",
       "2  [0, 1, 2, 3, 4, 5, 6, 7, 8, 9, 10, 11, 12, 13,...   \n",
       "3  [7709, 7710, 7711, 7712, 7713, 7714, 7715, 771...   \n",
       "4  [429, 430, 431, 432, 433, 434, 435, 436, 437, ...   \n",
       "\n",
       "                                            barcodes  \\\n",
       "0  [GGGAGTACAGAGTGTG-1, TGTGATGCAGTTTCAG-1, GTAAT...   \n",
       "1  [ATTCCCGTCCAAACCA-1, AGAAGCGCAACGGGTA-1, TCACG...   \n",
       "2  [CAATCGAGTTGCGGCT-1, ATTCACTTCAGGCGAA-1, TACGG...   \n",
       "3  [GTAGGTTAGGGATCAC-1, CATGGATTCTCCCATG-1, CTGCC...   \n",
       "4  [GTGTTAGCATATCGGT-1, TATATCCGTTGTACGT-1, ACAAC...   \n",
       "\n",
       "                                          read_stops  \n",
       "0  [7292, 334840, 53004, 165139, 357994, 211003, ...  \n",
       "1  [68499, 776, 109, 1261, 111, 785, 785, 785, 89...  \n",
       "2  [77, 178240, 250634, 180083, 134565, 24195, 21...  \n",
       "3  [63689, 6151, 5780, 220549, 6060, 299866, 6028...  \n",
       "4  [127861, 56287, 75, 75, 75, 75, 75, 71, 205, 1...  "
      ]
     },
     "execution_count": 209,
     "metadata": {},
     "output_type": "execute_result"
    }
   ],
   "source": [
    "df.head()"
   ]
  },
  {
   "cell_type": "code",
   "execution_count": 225,
   "metadata": {},
   "outputs": [],
   "source": [
    "def graph_exons(gene_base_id,df2):\n",
    "        df=df2.copy()\n",
    "        df=df[df['gene_id']==\"'\"+gene_base_id+\"'\"]\n",
    "        df=df.reset_index()\n",
    "        \n",
    "        if df.loc[0,'strand'] == \"+\":\n",
    "            start = min(df.loc[0,'exons'])\n",
    "            exons = list(map(lambda x: x - start, df.loc[0,'exons']))\n",
    "            read_stops = list(map(lambda x: int(x) - start, df.loc[0,'read_stops']))\n",
    "        if df.loc[0,'strand'] == \"-\":\n",
    "            start = max(df.loc[0,'exons'])\n",
    "            exons = list(map(lambda x: -1*(x - start), df.loc[0,'exons']))\n",
    "            read_stops = list(map(lambda x: -1*(int(x) - start), df.loc[0,'read_stops']))\n",
    "        \n",
    "        read_stops_dict = defaultdict(int)\n",
    "        \n",
    "        for stop in read_stops:\n",
    "            read_stops_dict[stop] += 1\n",
    "            \n",
    "        read_stops_exons=defaultdict(int)\n",
    "        for key in exons:\n",
    "            if read_stops_dict.get(key):\n",
    "                read_stops_exons[key] = read_stops_dict.get(key)\n",
    "                \n",
    "        for_bgm = [x for y in [[exons.index(i)]*n for i, n in read_stops_exons.items()] for x in y]\n",
    "        for_bgm = np.array(for_bgm).reshape([-1,1])\n",
    "        result = BayesianGaussianMixture(4,max_iter=2000).fit(for_bgm).predict(for_bgm)\n",
    "        \n",
    "        exons_results = pd.DataFrame({'result':result,'pos':for_bgm.flatten()})\n",
    "        exons_results['pos'] = exons_results['pos'].map(lambda x: exons[x])\n",
    "        \n",
    "        group_0 = exons_results[exons_results['result'] == 0]\n",
    "        group_1 = exons_results[exons_results['result'] == 1]\n",
    "        group_2 = exons_results[exons_results['result'] == 2]\n",
    "        group_3 = exons_results[exons_results['result'] == 3]\n",
    "        \n",
    "        sns.distplot(group_0['pos'])\n",
    "        sns.distplot(group_1['pos'])\n",
    "        sns.distplot(group_2['pos'])\n",
    "        sns.distplot(group_3['pos'])"
   ]
  },
  {
   "cell_type": "code",
   "execution_count": 222,
   "metadata": {},
   "outputs": [
    {
     "data": {
      "text/html": [
       "<div>\n",
       "<style scoped>\n",
       "    .dataframe tbody tr th:only-of-type {\n",
       "        vertical-align: middle;\n",
       "    }\n",
       "\n",
       "    .dataframe tbody tr th {\n",
       "        vertical-align: top;\n",
       "    }\n",
       "\n",
       "    .dataframe thead th {\n",
       "        text-align: right;\n",
       "    }\n",
       "</style>\n",
       "<table border=\"1\" class=\"dataframe\">\n",
       "  <thead>\n",
       "    <tr style=\"text-align: right;\">\n",
       "      <th></th>\n",
       "      <th>index</th>\n",
       "      <th>gene_id</th>\n",
       "      <th>name</th>\n",
       "      <th>chrom</th>\n",
       "      <th>exons</th>\n",
       "      <th>strand</th>\n",
       "      <th>barcodes</th>\n",
       "      <th>read_stops</th>\n",
       "    </tr>\n",
       "  </thead>\n",
       "  <tbody>\n",
       "    <tr>\n",
       "      <th>0</th>\n",
       "      <td>500</td>\n",
       "      <td>'ENSG00000204257'</td>\n",
       "      <td>'HLA-DMA'</td>\n",
       "      <td>chr6</td>\n",
       "      <td>[32948613, 32948614, 32948615, 32948616, 32948...</td>\n",
       "      <td>-</td>\n",
       "      <td>[TTACAGGGTACTCCCT-1, TAGCACACACCTCAGG-1, CTCAA...</td>\n",
       "      <td>[32948619, 32948805, 32955989, 32948644, 32948...</td>\n",
       "    </tr>\n",
       "    <tr>\n",
       "      <th>1</th>\n",
       "      <td>501</td>\n",
       "      <td>'ENSG00000196924'</td>\n",
       "      <td>'FLNA'</td>\n",
       "      <td>chrX</td>\n",
       "      <td>[154370873, 154370874, 154370875, 154370876, 1...</td>\n",
       "      <td>-</td>\n",
       "      <td>[TGTGCGGAGCTTGTGT-1, ACTGCAAGTGAGCAGT-1, GGTAG...</td>\n",
       "      <td>[154348532, 154348568, 154348536, 154348635, 1...</td>\n",
       "    </tr>\n",
       "    <tr>\n",
       "      <th>2</th>\n",
       "      <td>502</td>\n",
       "      <td>'ENSG00000121552'</td>\n",
       "      <td>'CSTA'</td>\n",
       "      <td>chr3</td>\n",
       "      <td>[122341628, 122341629, 122341630, 122341631, 1...</td>\n",
       "      <td>+</td>\n",
       "      <td>[GTGTGATTCGGAGTGA-1, GTCATGAAGAATCGCG-1, CTCAA...</td>\n",
       "      <td>[122341581, 122341470, 122341648, 122341544, 1...</td>\n",
       "    </tr>\n",
       "    <tr>\n",
       "      <th>3</th>\n",
       "      <td>503</td>\n",
       "      <td>'ENSG00000062716'</td>\n",
       "      <td>'VMP1'</td>\n",
       "      <td>chr17</td>\n",
       "      <td>[59834012, 59834013, 59834014, 59834015, 59834...</td>\n",
       "      <td>+</td>\n",
       "      <td>[GCTTGGGAGCTTACGT-1, TCAGTGACACTTTATC-1, CCGAT...</td>\n",
       "      <td>[59760029, 59788703, 59785629, 59747774, 59760...</td>\n",
       "    </tr>\n",
       "    <tr>\n",
       "      <th>4</th>\n",
       "      <td>504</td>\n",
       "      <td>'ENSG00000135218'</td>\n",
       "      <td>'CD36'</td>\n",
       "      <td>chr7</td>\n",
       "      <td>[80623923, 80623924, 80623925, 80623926, 80623...</td>\n",
       "      <td>+</td>\n",
       "      <td>[AGCCAATGTTGTAGCT-1, TCTACCGCAGGTCAGA-1, CCCTC...</td>\n",
       "      <td>[80679177, 80655741, 80679280, 80679154, 80655...</td>\n",
       "    </tr>\n",
       "  </tbody>\n",
       "</table>\n",
       "</div>"
      ],
      "text/plain": [
       "   index            gene_id       name  chrom  \\\n",
       "0    500  'ENSG00000204257'  'HLA-DMA'   chr6   \n",
       "1    501  'ENSG00000196924'     'FLNA'   chrX   \n",
       "2    502  'ENSG00000121552'     'CSTA'   chr3   \n",
       "3    503  'ENSG00000062716'     'VMP1'  chr17   \n",
       "4    504  'ENSG00000135218'     'CD36'   chr7   \n",
       "\n",
       "                                               exons strand  \\\n",
       "0  [32948613, 32948614, 32948615, 32948616, 32948...      -   \n",
       "1  [154370873, 154370874, 154370875, 154370876, 1...      -   \n",
       "2  [122341628, 122341629, 122341630, 122341631, 1...      +   \n",
       "3  [59834012, 59834013, 59834014, 59834015, 59834...      +   \n",
       "4  [80623923, 80623924, 80623925, 80623926, 80623...      +   \n",
       "\n",
       "                                            barcodes  \\\n",
       "0  [TTACAGGGTACTCCCT-1, TAGCACACACCTCAGG-1, CTCAA...   \n",
       "1  [TGTGCGGAGCTTGTGT-1, ACTGCAAGTGAGCAGT-1, GGTAG...   \n",
       "2  [GTGTGATTCGGAGTGA-1, GTCATGAAGAATCGCG-1, CTCAA...   \n",
       "3  [GCTTGGGAGCTTACGT-1, TCAGTGACACTTTATC-1, CCGAT...   \n",
       "4  [AGCCAATGTTGTAGCT-1, TCTACCGCAGGTCAGA-1, CCCTC...   \n",
       "\n",
       "                                          read_stops  \n",
       "0  [32948619, 32948805, 32955989, 32948644, 32948...  \n",
       "1  [154348532, 154348568, 154348536, 154348635, 1...  \n",
       "2  [122341581, 122341470, 122341648, 122341544, 1...  \n",
       "3  [59760029, 59788703, 59785629, 59747774, 59760...  \n",
       "4  [80679177, 80655741, 80679280, 80679154, 80655...  "
      ]
     },
     "execution_count": 222,
     "metadata": {},
     "output_type": "execute_result"
    }
   ],
   "source": [
    "df2.head()"
   ]
  },
  {
   "cell_type": "code",
   "execution_count": 236,
   "metadata": {},
   "outputs": [
    {
     "data": {
      "image/png": "[encoded data removed]",
      "text/plain": [
       "<Figure size 432x288 with 1 Axes>"
      ]
     },
     "metadata": {
      "needs_background": "light"
     },
     "output_type": "display_data"
    }
   ],
   "source": [
    "graph_exons('ENSG00000204257',df2)"
   ]
  },
  {
   "cell_type": "code",
   "execution_count": 237,
   "metadata": {},
   "outputs": [
    {
     "data": {
      "text/plain": [
       "20480"
      ]
     },
     "execution_count": 237,
     "metadata": {},
     "output_type": "execute_result"
    }
   ],
   "source": [
    "max(df2.loc[0,'exons']) - min(df2.loc[0,'exons'])"
   ]
  },
  {
   "cell_type": "code",
   "execution_count": 227,
   "metadata": {},
   "outputs": [],
   "source": [
    "import seaborn as sns"
   ]
  },
  {
   "cell_type": "code",
   "execution_count": 213,
   "metadata": {},
   "outputs": [],
   "source": [
    "import matplotlib.pyplot as plt"
   ]
  },
  {
   "cell_type": "code",
   "execution_count": 76,
   "metadata": {},
   "outputs": [],
   "source": [
    "#fast!\n",
    "for_bgm = [x for y in [[i]*n for i, n in read_stops_exons.items()] for x in y]"
   ]
  },
  {
   "cell_type": "code",
   "execution_count": 77,
   "metadata": {},
   "outputs": [],
   "source": [
    "for_bgm = np.array(for_bgm).reshape([-1,1])"
   ]
  },
  {
   "cell_type": "code",
   "execution_count": 78,
   "metadata": {},
   "outputs": [],
   "source": [
    "result = BayesianGaussianMixture(4,max_iter=300).fit(for_bgm).predict(for_bgm)"
   ]
  },
  {
   "cell_type": "code",
   "execution_count": 79,
   "metadata": {},
   "outputs": [
    {
     "data": {
      "text/plain": [
       "(3107752,)"
      ]
     },
     "execution_count": 79,
     "metadata": {},
     "output_type": "execute_result"
    }
   ],
   "source": [
    "for_bgm.flatten().shape"
   ]
  },
  {
   "cell_type": "code",
   "execution_count": 84,
   "metadata": {},
   "outputs": [],
   "source": [
    "test = pd.DataFrame({'result':result,'pos':for_bgm.flatten(),'barcode':barcodes_test})"
   ]
  },
  {
   "cell_type": "code",
   "execution_count": 87,
   "metadata": {},
   "outputs": [
    {
     "data": {
      "text/plain": [
       "0    2166283\n",
       "1     727600\n",
       "3     110472\n",
       "2     103397\n",
       "dtype: int64"
      ]
     },
     "execution_count": 87,
     "metadata": {},
     "output_type": "execute_result"
    }
   ],
   "source": [
    "pd.Series(result).value_counts()"
   ]
  },
  {
   "cell_type": "code",
   "execution_count": 81,
   "metadata": {},
   "outputs": [],
   "source": [
    "barcodes_test = [np.array(i).flatten() for i in barcodes_exons.values()]"
   ]
  },
  {
   "cell_type": "code",
   "execution_count": 82,
   "metadata": {},
   "outputs": [],
   "source": [
    "barcodes_test = np.concatenate(barcodes_test)"
   ]
  },
  {
   "cell_type": "code",
   "execution_count": 83,
   "metadata": {},
   "outputs": [
    {
     "data": {
      "text/plain": [
       "(3107752,)"
      ]
     },
     "execution_count": 83,
     "metadata": {},
     "output_type": "execute_result"
    }
   ],
   "source": [
    "barcodes_test.shape"
   ]
  },
  {
   "cell_type": "code",
   "execution_count": null,
   "metadata": {},
   "outputs": [],
   "source": [
    "temp = temp.groupby(['barcode','call']).count().reset_index()"
   ]
  },
  {
   "cell_type": "code",
   "execution_count": 177,
   "metadata": {},
   "outputs": [],
   "source": [
    "test_2 = test[test['result'] == 2]"
   ]
  },
  {
   "cell_type": "code",
   "execution_count": 178,
   "metadata": {},
   "outputs": [],
   "source": [
    "test_1 = test[test['result'] == 1]"
   ]
  },
  {
   "cell_type": "code",
   "execution_count": 179,
   "metadata": {},
   "outputs": [],
   "source": [
    "test_0 = test[test['result'] == 0]"
   ]
  },
  {
   "cell_type": "code",
   "execution_count": 180,
   "metadata": {},
   "outputs": [],
   "source": [
    "test_3 = test[test['result'] == 3]"
   ]
  },
  {
   "cell_type": "code",
   "execution_count": 96,
   "metadata": {},
   "outputs": [],
   "source": [
    "import matplotlib.pyplot as plt"
   ]
  },
  {
   "cell_type": "code",
   "execution_count": 97,
   "metadata": {},
   "outputs": [],
   "source": [
    "import seaborn as sns"
   ]
  },
  {
   "cell_type": "code",
   "execution_count": 181,
   "metadata": {},
   "outputs": [
    {
     "data": {
      "text/plain": [
       "<matplotlib.axes._subplots.AxesSubplot at 0x7fda8b6244d0>"
      ]
     },
     "execution_count": 181,
     "metadata": {},
     "output_type": "execute_result"
    },
    {
     "data": {
      "image/png": "[encoded data removed]",
      "text/plain": [
       "<Figure size 432x288 with 1 Axes>"
      ]
     },
     "metadata": {
      "needs_background": "light"
     },
     "output_type": "display_data"
    }
   ],
   "source": [
    "sns.distplot(test_0['pos'])\n",
    "sns.distplot(test_1['pos'])\n",
    "sns.distplot(test_2['pos'])\n",
    "sns.distplot(test_3['pos'])"
   ]
  },
  {
   "cell_type": "code",
   "execution_count": null,
   "metadata": {},
   "outputs": [],
   "source": []
  },
  {
   "cell_type": "code",
   "execution_count": 100,
   "metadata": {},
   "outputs": [],
   "source": [
    "#fast!\n",
    "for_bgm = [x for y in [[i]*n for i, n in read_stops_introns.items()] for x in y]"
   ]
  },
  {
   "cell_type": "code",
   "execution_count": 101,
   "metadata": {},
   "outputs": [],
   "source": [
    "for_bgm = np.array(for_bgm).reshape([-1,1])"
   ]
  },
  {
   "cell_type": "code",
   "execution_count": 102,
   "metadata": {},
   "outputs": [
    {
     "data": {
      "text/plain": [
       "(0, 1)"
      ]
     },
     "execution_count": 102,
     "metadata": {},
     "output_type": "execute_result"
    }
   ],
   "source": [
    "for_bgm.shape"
   ]
  },
  {
   "cell_type": "code",
   "execution_count": 98,
   "metadata": {},
   "outputs": [
    {
     "ename": "ValueError",
     "evalue": "Found array with 0 sample(s) (shape=(0, 1)) while a minimum of 2 is required.",
     "output_type": "error",
     "traceback": [
      "\u001b[0;31m---------------------------------------------------------------------------\u001b[0m",
      "\u001b[0;31mValueError\u001b[0m                                Traceback (most recent call last)",
      "\u001b[0;32m<ipython-input-98-308c2c8c444a>\u001b[0m in \u001b[0;36m<module>\u001b[0;34m\u001b[0m\n\u001b[0;32m----> 1\u001b[0;31m \u001b[0mresult\u001b[0m \u001b[0;34m=\u001b[0m \u001b[0mBayesianGaussianMixture\u001b[0m\u001b[0;34m(\u001b[0m\u001b[0;36m4\u001b[0m\u001b[0;34m,\u001b[0m\u001b[0mmax_iter\u001b[0m\u001b[0;34m=\u001b[0m\u001b[0;36m300\u001b[0m\u001b[0;34m)\u001b[0m\u001b[0;34m.\u001b[0m\u001b[0mfit\u001b[0m\u001b[0;34m(\u001b[0m\u001b[0mfor_bgm\u001b[0m\u001b[0;34m)\u001b[0m\u001b[0;34m.\u001b[0m\u001b[0mpredict\u001b[0m\u001b[0;34m(\u001b[0m\u001b[0mfor_bgm\u001b[0m\u001b[0;34m)\u001b[0m\u001b[0;34m\u001b[0m\u001b[0;34m\u001b[0m\u001b[0m\n\u001b[0m",
      "\u001b[0;32m/opt/anaconda3/lib/python3.7/site-packages/sklearn/mixture/_base.py\u001b[0m in \u001b[0;36mfit\u001b[0;34m(self, X, y)\u001b[0m\n\u001b[1;32m    190\u001b[0m         \u001b[0mself\u001b[0m\u001b[0;34m\u001b[0m\u001b[0;34m\u001b[0m\u001b[0m\n\u001b[1;32m    191\u001b[0m         \"\"\"\n\u001b[0;32m--> 192\u001b[0;31m         \u001b[0mself\u001b[0m\u001b[0;34m.\u001b[0m\u001b[0mfit_predict\u001b[0m\u001b[0;34m(\u001b[0m\u001b[0mX\u001b[0m\u001b[0;34m,\u001b[0m \u001b[0my\u001b[0m\u001b[0;34m)\u001b[0m\u001b[0;34m\u001b[0m\u001b[0;34m\u001b[0m\u001b[0m\n\u001b[0m\u001b[1;32m    193\u001b[0m         \u001b[0;32mreturn\u001b[0m \u001b[0mself\u001b[0m\u001b[0;34m\u001b[0m\u001b[0;34m\u001b[0m\u001b[0m\n\u001b[1;32m    194\u001b[0m \u001b[0;34m\u001b[0m\u001b[0m\n",
      "\u001b[0;32m/opt/anaconda3/lib/python3.7/site-packages/sklearn/mixture/_base.py\u001b[0m in \u001b[0;36mfit_predict\u001b[0;34m(self, X, y)\u001b[0m\n\u001b[1;32m    217\u001b[0m             \u001b[0mComponent\u001b[0m \u001b[0mlabels\u001b[0m\u001b[0;34m.\u001b[0m\u001b[0;34m\u001b[0m\u001b[0;34m\u001b[0m\u001b[0m\n\u001b[1;32m    218\u001b[0m         \"\"\"\n\u001b[0;32m--> 219\u001b[0;31m         \u001b[0mX\u001b[0m \u001b[0;34m=\u001b[0m \u001b[0m_check_X\u001b[0m\u001b[0;34m(\u001b[0m\u001b[0mX\u001b[0m\u001b[0;34m,\u001b[0m \u001b[0mself\u001b[0m\u001b[0;34m.\u001b[0m\u001b[0mn_components\u001b[0m\u001b[0;34m,\u001b[0m \u001b[0mensure_min_samples\u001b[0m\u001b[0;34m=\u001b[0m\u001b[0;36m2\u001b[0m\u001b[0;34m)\u001b[0m\u001b[0;34m\u001b[0m\u001b[0;34m\u001b[0m\u001b[0m\n\u001b[0m\u001b[1;32m    220\u001b[0m         \u001b[0mself\u001b[0m\u001b[0;34m.\u001b[0m\u001b[0m_check_initial_parameters\u001b[0m\u001b[0;34m(\u001b[0m\u001b[0mX\u001b[0m\u001b[0;34m)\u001b[0m\u001b[0;34m\u001b[0m\u001b[0;34m\u001b[0m\u001b[0m\n\u001b[1;32m    221\u001b[0m \u001b[0;34m\u001b[0m\u001b[0m\n",
      "\u001b[0;32m/opt/anaconda3/lib/python3.7/site-packages/sklearn/mixture/_base.py\u001b[0m in \u001b[0;36m_check_X\u001b[0;34m(X, n_components, n_features, ensure_min_samples)\u001b[0m\n\u001b[1;32m     51\u001b[0m     \"\"\"\n\u001b[1;32m     52\u001b[0m     X = check_array(X, dtype=[np.float64, np.float32],\n\u001b[0;32m---> 53\u001b[0;31m                     ensure_min_samples=ensure_min_samples)\n\u001b[0m\u001b[1;32m     54\u001b[0m     \u001b[0;32mif\u001b[0m \u001b[0mn_components\u001b[0m \u001b[0;32mis\u001b[0m \u001b[0;32mnot\u001b[0m \u001b[0;32mNone\u001b[0m \u001b[0;32mand\u001b[0m \u001b[0mX\u001b[0m\u001b[0;34m.\u001b[0m\u001b[0mshape\u001b[0m\u001b[0;34m[\u001b[0m\u001b[0;36m0\u001b[0m\u001b[0;34m]\u001b[0m \u001b[0;34m<\u001b[0m \u001b[0mn_components\u001b[0m\u001b[0;34m:\u001b[0m\u001b[0;34m\u001b[0m\u001b[0;34m\u001b[0m\u001b[0m\n\u001b[1;32m     55\u001b[0m         raise ValueError('Expected n_samples >= n_components '\n",
      "\u001b[0;32m/opt/anaconda3/lib/python3.7/site-packages/sklearn/utils/validation.py\u001b[0m in \u001b[0;36mcheck_array\u001b[0;34m(array, accept_sparse, accept_large_sparse, dtype, order, copy, force_all_finite, ensure_2d, allow_nd, ensure_min_samples, ensure_min_features, warn_on_dtype, estimator)\u001b[0m\n\u001b[1;32m    584\u001b[0m                              \u001b[0;34m\" minimum of %d is required%s.\"\u001b[0m\u001b[0;34m\u001b[0m\u001b[0;34m\u001b[0m\u001b[0m\n\u001b[1;32m    585\u001b[0m                              % (n_samples, array.shape, ensure_min_samples,\n\u001b[0;32m--> 586\u001b[0;31m                                 context))\n\u001b[0m\u001b[1;32m    587\u001b[0m \u001b[0;34m\u001b[0m\u001b[0m\n\u001b[1;32m    588\u001b[0m     \u001b[0;32mif\u001b[0m \u001b[0mensure_min_features\u001b[0m \u001b[0;34m>\u001b[0m \u001b[0;36m0\u001b[0m \u001b[0;32mand\u001b[0m \u001b[0marray\u001b[0m\u001b[0;34m.\u001b[0m\u001b[0mndim\u001b[0m \u001b[0;34m==\u001b[0m \u001b[0;36m2\u001b[0m\u001b[0;34m:\u001b[0m\u001b[0;34m\u001b[0m\u001b[0;34m\u001b[0m\u001b[0m\n",
      "\u001b[0;31mValueError\u001b[0m: Found array with 0 sample(s) (shape=(0, 1)) while a minimum of 2 is required."
     ]
    }
   ],
   "source": [
    "result = BayesianGaussianMixture(4,max_iter=300).fit(for_bgm).predict(for_bgm)"
   ]
  },
  {
   "cell_type": "code",
   "execution_count": 79,
   "metadata": {},
   "outputs": [
    {
     "data": {
      "text/plain": [
       "(3107752,)"
      ]
     },
     "execution_count": 79,
     "metadata": {},
     "output_type": "execute_result"
    }
   ],
   "source": [
    "for_bgm.flatten().shape"
   ]
  },
  {
   "cell_type": "code",
   "execution_count": 84,
   "metadata": {},
   "outputs": [],
   "source": [
    "test = pd.DataFrame({'result':result,'pos':for_bgm.flatten(),'barcode':barcodes_test})"
   ]
  },
  {
   "cell_type": "code",
   "execution_count": 85,
   "metadata": {},
   "outputs": [],
   "source": [
    "min = test[test['result']==0]['pos'].min()"
   ]
  },
  {
   "cell_type": "code",
   "execution_count": 86,
   "metadata": {},
   "outputs": [],
   "source": [
    "max = test[test['result']==0]['pos'].max()"
   ]
  },
  {
   "cell_type": "code",
   "execution_count": 87,
   "metadata": {},
   "outputs": [
    {
     "data": {
      "text/plain": [
       "0    2166283\n",
       "1     727600\n",
       "3     110472\n",
       "2     103397\n",
       "dtype: int64"
      ]
     },
     "execution_count": 87,
     "metadata": {},
     "output_type": "execute_result"
    }
   ],
   "source": [
    "pd.Series(result).value_counts()"
   ]
  },
  {
   "cell_type": "code",
   "execution_count": 81,
   "metadata": {},
   "outputs": [],
   "source": [
    "barcodes_test = [np.array(i).flatten() for i in barcodes_exons.values()]"
   ]
  },
  {
   "cell_type": "code",
   "execution_count": 82,
   "metadata": {},
   "outputs": [],
   "source": [
    "barcodes_test = np.concatenate(barcodes_test)"
   ]
  },
  {
   "cell_type": "code",
   "execution_count": 83,
   "metadata": {},
   "outputs": [
    {
     "data": {
      "text/plain": [
       "(3107752,)"
      ]
     },
     "execution_count": 83,
     "metadata": {},
     "output_type": "execute_result"
    }
   ],
   "source": [
    "barcodes_test.shape"
   ]
  },
  {
   "cell_type": "code",
   "execution_count": null,
   "metadata": {},
   "outputs": [],
   "source": [
    "temp = temp.groupby(['barcode','call']).count().reset_index()"
   ]
  },
  {
   "cell_type": "code",
   "execution_count": 187,
   "metadata": {},
   "outputs": [],
   "source": [
    "test_2 = test2[test2['result'] == 2]"
   ]
  },
  {
   "cell_type": "code",
   "execution_count": 188,
   "metadata": {},
   "outputs": [],
   "source": [
    "test_1 = test2[test2['result'] == 1]"
   ]
  },
  {
   "cell_type": "code",
   "execution_count": 189,
   "metadata": {},
   "outputs": [],
   "source": [
    "test_0 = test2[test2['result'] == 0]"
   ]
  },
  {
   "cell_type": "code",
   "execution_count": 190,
   "metadata": {},
   "outputs": [],
   "source": [
    "test_3 = test2[test2['result'] == 3]"
   ]
  },
  {
   "cell_type": "code",
   "execution_count": 92,
   "metadata": {},
   "outputs": [],
   "source": [
    "import matplotlib.pyplot as plt"
   ]
  },
  {
   "cell_type": "code",
   "execution_count": 93,
   "metadata": {},
   "outputs": [],
   "source": [
    "import seaborn as sns"
   ]
  },
  {
   "cell_type": "code",
   "execution_count": 192,
   "metadata": {},
   "outputs": [
    {
     "data": {
      "text/plain": [
       "<matplotlib.axes._subplots.AxesSubplot at 0x7fda836fa050>"
      ]
     },
     "execution_count": 192,
     "metadata": {},
     "output_type": "execute_result"
    },
    {
     "data": {
      "image/png": "[encoded data removed]",
      "text/plain": [
       "<Figure size 432x288 with 1 Axes>"
      ]
     },
     "metadata": {
      "needs_background": "light"
     },
     "output_type": "display_data"
    }
   ],
   "source": [
    "sns.distplot(test_0['pos'])\n"
   ]
  },
  {
   "cell_type": "code",
   "execution_count": 193,
   "metadata": {},
   "outputs": [
    {
     "data": {
      "text/plain": [
       "<matplotlib.axes._subplots.AxesSubplot at 0x7fda876d2810>"
      ]
     },
     "execution_count": 193,
     "metadata": {},
     "output_type": "execute_result"
    },
    {
     "data": {
      "image/png": "[encoded data removed]",
      "text/plain": [
       "<Figure size 432x288 with 1 Axes>"
      ]
     },
     "metadata": {
      "needs_background": "light"
     },
     "output_type": "display_data"
    }
   ],
   "source": [
    "sns.distplot(test_1['pos'])"
   ]
  },
  {
   "cell_type": "code",
   "execution_count": 194,
   "metadata": {},
   "outputs": [
    {
     "ename": "RuntimeError",
     "evalue": "Selected KDE bandwidth is 0. Cannot estiamte density.",
     "output_type": "error",
     "traceback": [
      "\u001b[0;31m---------------------------------------------------------------------------\u001b[0m",
      "\u001b[0;31mValueError\u001b[0m                                Traceback (most recent call last)",
      "\u001b[0;32m/opt/anaconda3/lib/python3.7/site-packages/statsmodels/nonparametric/kde.py\u001b[0m in \u001b[0;36mkdensityfft\u001b[0;34m(X, kernel, bw, weights, gridsize, adjust, clip, cut, retgrid)\u001b[0m\n\u001b[1;32m    450\u001b[0m     \u001b[0;32mtry\u001b[0m\u001b[0;34m:\u001b[0m\u001b[0;34m\u001b[0m\u001b[0;34m\u001b[0m\u001b[0m\n\u001b[0;32m--> 451\u001b[0;31m         \u001b[0mbw\u001b[0m \u001b[0;34m=\u001b[0m \u001b[0mfloat\u001b[0m\u001b[0;34m(\u001b[0m\u001b[0mbw\u001b[0m\u001b[0;34m)\u001b[0m\u001b[0;34m\u001b[0m\u001b[0;34m\u001b[0m\u001b[0m\n\u001b[0m\u001b[1;32m    452\u001b[0m     \u001b[0;32mexcept\u001b[0m\u001b[0;34m:\u001b[0m\u001b[0;34m\u001b[0m\u001b[0;34m\u001b[0m\u001b[0m\n",
      "\u001b[0;31mValueError\u001b[0m: could not convert string to float: 'scott'",
      "\nDuring handling of the above exception, another exception occurred:\n",
      "\u001b[0;31mRuntimeError\u001b[0m                              Traceback (most recent call last)",
      "\u001b[0;32m<ipython-input-194-a1a9d766a36b>\u001b[0m in \u001b[0;36m<module>\u001b[0;34m\u001b[0m\n\u001b[0;32m----> 1\u001b[0;31m \u001b[0msns\u001b[0m\u001b[0;34m.\u001b[0m\u001b[0mdistplot\u001b[0m\u001b[0;34m(\u001b[0m\u001b[0mtest_2\u001b[0m\u001b[0;34m[\u001b[0m\u001b[0;34m'pos'\u001b[0m\u001b[0;34m]\u001b[0m\u001b[0;34m)\u001b[0m\u001b[0;34m\u001b[0m\u001b[0;34m\u001b[0m\u001b[0m\n\u001b[0m",
      "\u001b[0;32m/opt/anaconda3/lib/python3.7/site-packages/seaborn/distributions.py\u001b[0m in \u001b[0;36mdistplot\u001b[0;34m(a, bins, hist, kde, rug, fit, hist_kws, kde_kws, rug_kws, fit_kws, color, vertical, norm_hist, axlabel, label, ax)\u001b[0m\n\u001b[1;32m    231\u001b[0m     \u001b[0;32mif\u001b[0m \u001b[0mkde\u001b[0m\u001b[0;34m:\u001b[0m\u001b[0;34m\u001b[0m\u001b[0;34m\u001b[0m\u001b[0m\n\u001b[1;32m    232\u001b[0m         \u001b[0mkde_color\u001b[0m \u001b[0;34m=\u001b[0m \u001b[0mkde_kws\u001b[0m\u001b[0;34m.\u001b[0m\u001b[0mpop\u001b[0m\u001b[0;34m(\u001b[0m\u001b[0;34m\"color\"\u001b[0m\u001b[0;34m,\u001b[0m \u001b[0mcolor\u001b[0m\u001b[0;34m)\u001b[0m\u001b[0;34m\u001b[0m\u001b[0;34m\u001b[0m\u001b[0m\n\u001b[0;32m--> 233\u001b[0;31m         \u001b[0mkdeplot\u001b[0m\u001b[0;34m(\u001b[0m\u001b[0ma\u001b[0m\u001b[0;34m,\u001b[0m \u001b[0mvertical\u001b[0m\u001b[0;34m=\u001b[0m\u001b[0mvertical\u001b[0m\u001b[0;34m,\u001b[0m \u001b[0max\u001b[0m\u001b[0;34m=\u001b[0m\u001b[0max\u001b[0m\u001b[0;34m,\u001b[0m \u001b[0mcolor\u001b[0m\u001b[0;34m=\u001b[0m\u001b[0mkde_color\u001b[0m\u001b[0;34m,\u001b[0m \u001b[0;34m**\u001b[0m\u001b[0mkde_kws\u001b[0m\u001b[0;34m)\u001b[0m\u001b[0;34m\u001b[0m\u001b[0;34m\u001b[0m\u001b[0m\n\u001b[0m\u001b[1;32m    234\u001b[0m         \u001b[0;32mif\u001b[0m \u001b[0mkde_color\u001b[0m \u001b[0;34m!=\u001b[0m \u001b[0mcolor\u001b[0m\u001b[0;34m:\u001b[0m\u001b[0;34m\u001b[0m\u001b[0;34m\u001b[0m\u001b[0m\n\u001b[1;32m    235\u001b[0m             \u001b[0mkde_kws\u001b[0m\u001b[0;34m[\u001b[0m\u001b[0;34m\"color\"\u001b[0m\u001b[0;34m]\u001b[0m \u001b[0;34m=\u001b[0m \u001b[0mkde_color\u001b[0m\u001b[0;34m\u001b[0m\u001b[0;34m\u001b[0m\u001b[0m\n",
      "\u001b[0;32m/opt/anaconda3/lib/python3.7/site-packages/seaborn/distributions.py\u001b[0m in \u001b[0;36mkdeplot\u001b[0;34m(data, data2, shade, vertical, kernel, bw, gridsize, cut, clip, legend, cumulative, shade_lowest, cbar, cbar_ax, cbar_kws, ax, **kwargs)\u001b[0m\n\u001b[1;32m    703\u001b[0m         ax = _univariate_kdeplot(data, shade, vertical, kernel, bw,\n\u001b[1;32m    704\u001b[0m                                  \u001b[0mgridsize\u001b[0m\u001b[0;34m,\u001b[0m \u001b[0mcut\u001b[0m\u001b[0;34m,\u001b[0m \u001b[0mclip\u001b[0m\u001b[0;34m,\u001b[0m \u001b[0mlegend\u001b[0m\u001b[0;34m,\u001b[0m \u001b[0max\u001b[0m\u001b[0;34m,\u001b[0m\u001b[0;34m\u001b[0m\u001b[0;34m\u001b[0m\u001b[0m\n\u001b[0;32m--> 705\u001b[0;31m                                  cumulative=cumulative, **kwargs)\n\u001b[0m\u001b[1;32m    706\u001b[0m \u001b[0;34m\u001b[0m\u001b[0m\n\u001b[1;32m    707\u001b[0m     \u001b[0;32mreturn\u001b[0m \u001b[0max\u001b[0m\u001b[0;34m\u001b[0m\u001b[0;34m\u001b[0m\u001b[0m\n",
      "\u001b[0;32m/opt/anaconda3/lib/python3.7/site-packages/seaborn/distributions.py\u001b[0m in \u001b[0;36m_univariate_kdeplot\u001b[0;34m(data, shade, vertical, kernel, bw, gridsize, cut, clip, legend, ax, cumulative, **kwargs)\u001b[0m\n\u001b[1;32m    293\u001b[0m         x, y = _statsmodels_univariate_kde(data, kernel, bw,\n\u001b[1;32m    294\u001b[0m                                            \u001b[0mgridsize\u001b[0m\u001b[0;34m,\u001b[0m \u001b[0mcut\u001b[0m\u001b[0;34m,\u001b[0m \u001b[0mclip\u001b[0m\u001b[0;34m,\u001b[0m\u001b[0;34m\u001b[0m\u001b[0;34m\u001b[0m\u001b[0m\n\u001b[0;32m--> 295\u001b[0;31m                                            cumulative=cumulative)\n\u001b[0m\u001b[1;32m    296\u001b[0m     \u001b[0;32melse\u001b[0m\u001b[0;34m:\u001b[0m\u001b[0;34m\u001b[0m\u001b[0;34m\u001b[0m\u001b[0m\n\u001b[1;32m    297\u001b[0m         \u001b[0;31m# Fall back to scipy if missing statsmodels\u001b[0m\u001b[0;34m\u001b[0m\u001b[0;34m\u001b[0m\u001b[0;34m\u001b[0m\u001b[0m\n",
      "\u001b[0;32m/opt/anaconda3/lib/python3.7/site-packages/seaborn/distributions.py\u001b[0m in \u001b[0;36m_statsmodels_univariate_kde\u001b[0;34m(data, kernel, bw, gridsize, cut, clip, cumulative)\u001b[0m\n\u001b[1;32m    365\u001b[0m     \u001b[0mfft\u001b[0m \u001b[0;34m=\u001b[0m \u001b[0mkernel\u001b[0m \u001b[0;34m==\u001b[0m \u001b[0;34m\"gau\"\u001b[0m\u001b[0;34m\u001b[0m\u001b[0;34m\u001b[0m\u001b[0m\n\u001b[1;32m    366\u001b[0m     \u001b[0mkde\u001b[0m \u001b[0;34m=\u001b[0m \u001b[0msmnp\u001b[0m\u001b[0;34m.\u001b[0m\u001b[0mKDEUnivariate\u001b[0m\u001b[0;34m(\u001b[0m\u001b[0mdata\u001b[0m\u001b[0;34m)\u001b[0m\u001b[0;34m\u001b[0m\u001b[0;34m\u001b[0m\u001b[0m\n\u001b[0;32m--> 367\u001b[0;31m     \u001b[0mkde\u001b[0m\u001b[0;34m.\u001b[0m\u001b[0mfit\u001b[0m\u001b[0;34m(\u001b[0m\u001b[0mkernel\u001b[0m\u001b[0;34m,\u001b[0m \u001b[0mbw\u001b[0m\u001b[0;34m,\u001b[0m \u001b[0mfft\u001b[0m\u001b[0;34m,\u001b[0m \u001b[0mgridsize\u001b[0m\u001b[0;34m=\u001b[0m\u001b[0mgridsize\u001b[0m\u001b[0;34m,\u001b[0m \u001b[0mcut\u001b[0m\u001b[0;34m=\u001b[0m\u001b[0mcut\u001b[0m\u001b[0;34m,\u001b[0m \u001b[0mclip\u001b[0m\u001b[0;34m=\u001b[0m\u001b[0mclip\u001b[0m\u001b[0;34m)\u001b[0m\u001b[0;34m\u001b[0m\u001b[0;34m\u001b[0m\u001b[0m\n\u001b[0m\u001b[1;32m    368\u001b[0m     \u001b[0;32mif\u001b[0m \u001b[0mcumulative\u001b[0m\u001b[0;34m:\u001b[0m\u001b[0;34m\u001b[0m\u001b[0;34m\u001b[0m\u001b[0m\n\u001b[1;32m    369\u001b[0m         \u001b[0mgrid\u001b[0m\u001b[0;34m,\u001b[0m \u001b[0my\u001b[0m \u001b[0;34m=\u001b[0m \u001b[0mkde\u001b[0m\u001b[0;34m.\u001b[0m\u001b[0msupport\u001b[0m\u001b[0;34m,\u001b[0m \u001b[0mkde\u001b[0m\u001b[0;34m.\u001b[0m\u001b[0mcdf\u001b[0m\u001b[0;34m\u001b[0m\u001b[0;34m\u001b[0m\u001b[0m\n",
      "\u001b[0;32m/opt/anaconda3/lib/python3.7/site-packages/statsmodels/nonparametric/kde.py\u001b[0m in \u001b[0;36mfit\u001b[0;34m(self, kernel, bw, fft, weights, gridsize, adjust, cut, clip)\u001b[0m\n\u001b[1;32m    138\u001b[0m             density, grid, bw = kdensityfft(endog, kernel=kernel, bw=bw,\n\u001b[1;32m    139\u001b[0m                     \u001b[0madjust\u001b[0m\u001b[0;34m=\u001b[0m\u001b[0madjust\u001b[0m\u001b[0;34m,\u001b[0m \u001b[0mweights\u001b[0m\u001b[0;34m=\u001b[0m\u001b[0mweights\u001b[0m\u001b[0;34m,\u001b[0m \u001b[0mgridsize\u001b[0m\u001b[0;34m=\u001b[0m\u001b[0mgridsize\u001b[0m\u001b[0;34m,\u001b[0m\u001b[0;34m\u001b[0m\u001b[0;34m\u001b[0m\u001b[0m\n\u001b[0;32m--> 140\u001b[0;31m                     clip=clip, cut=cut)\n\u001b[0m\u001b[1;32m    141\u001b[0m         \u001b[0;32melse\u001b[0m\u001b[0;34m:\u001b[0m\u001b[0;34m\u001b[0m\u001b[0;34m\u001b[0m\u001b[0m\n\u001b[1;32m    142\u001b[0m             density, grid, bw = kdensity(endog, kernel=kernel, bw=bw,\n",
      "\u001b[0;32m/opt/anaconda3/lib/python3.7/site-packages/statsmodels/nonparametric/kde.py\u001b[0m in \u001b[0;36mkdensityfft\u001b[0;34m(X, kernel, bw, weights, gridsize, adjust, clip, cut, retgrid)\u001b[0m\n\u001b[1;32m    451\u001b[0m         \u001b[0mbw\u001b[0m \u001b[0;34m=\u001b[0m \u001b[0mfloat\u001b[0m\u001b[0;34m(\u001b[0m\u001b[0mbw\u001b[0m\u001b[0;34m)\u001b[0m\u001b[0;34m\u001b[0m\u001b[0;34m\u001b[0m\u001b[0m\n\u001b[1;32m    452\u001b[0m     \u001b[0;32mexcept\u001b[0m\u001b[0;34m:\u001b[0m\u001b[0;34m\u001b[0m\u001b[0;34m\u001b[0m\u001b[0m\n\u001b[0;32m--> 453\u001b[0;31m         \u001b[0mbw\u001b[0m \u001b[0;34m=\u001b[0m \u001b[0mbandwidths\u001b[0m\u001b[0;34m.\u001b[0m\u001b[0mselect_bandwidth\u001b[0m\u001b[0;34m(\u001b[0m\u001b[0mX\u001b[0m\u001b[0;34m,\u001b[0m \u001b[0mbw\u001b[0m\u001b[0;34m,\u001b[0m \u001b[0mkern\u001b[0m\u001b[0;34m)\u001b[0m \u001b[0;31m# will cross-val fit this pattern?\u001b[0m\u001b[0;34m\u001b[0m\u001b[0;34m\u001b[0m\u001b[0m\n\u001b[0m\u001b[1;32m    454\u001b[0m     \u001b[0mbw\u001b[0m \u001b[0;34m*=\u001b[0m \u001b[0madjust\u001b[0m\u001b[0;34m\u001b[0m\u001b[0;34m\u001b[0m\u001b[0m\n\u001b[1;32m    455\u001b[0m \u001b[0;34m\u001b[0m\u001b[0m\n",
      "\u001b[0;32m/opt/anaconda3/lib/python3.7/site-packages/statsmodels/nonparametric/bandwidths.py\u001b[0m in \u001b[0;36mselect_bandwidth\u001b[0;34m(x, bw, kernel)\u001b[0m\n\u001b[1;32m    172\u001b[0m         \u001b[0;31m# eventually this can fall back on another selection criterion.\u001b[0m\u001b[0;34m\u001b[0m\u001b[0;34m\u001b[0m\u001b[0;34m\u001b[0m\u001b[0m\n\u001b[1;32m    173\u001b[0m         \u001b[0merr\u001b[0m \u001b[0;34m=\u001b[0m \u001b[0;34m\"Selected KDE bandwidth is 0. Cannot estiamte density.\"\u001b[0m\u001b[0;34m\u001b[0m\u001b[0;34m\u001b[0m\u001b[0m\n\u001b[0;32m--> 174\u001b[0;31m         \u001b[0;32mraise\u001b[0m \u001b[0mRuntimeError\u001b[0m\u001b[0;34m(\u001b[0m\u001b[0merr\u001b[0m\u001b[0;34m)\u001b[0m\u001b[0;34m\u001b[0m\u001b[0;34m\u001b[0m\u001b[0m\n\u001b[0m\u001b[1;32m    175\u001b[0m     \u001b[0;32melse\u001b[0m\u001b[0;34m:\u001b[0m\u001b[0;34m\u001b[0m\u001b[0;34m\u001b[0m\u001b[0m\n\u001b[1;32m    176\u001b[0m         \u001b[0;32mreturn\u001b[0m \u001b[0mbandwidth\u001b[0m\u001b[0;34m\u001b[0m\u001b[0;34m\u001b[0m\u001b[0m\n",
      "\u001b[0;31mRuntimeError\u001b[0m: Selected KDE bandwidth is 0. Cannot estiamte density."
     ]
    },
    {
     "data": {
      "image/png": "[encoded data removed]",
      "text/plain": [
       "<Figure size 432x288 with 1 Axes>"
      ]
     },
     "metadata": {
      "needs_background": "light"
     },
     "output_type": "display_data"
    }
   ],
   "source": [
    "sns.distplot(test_2['pos'])"
   ]
  },
  {
   "cell_type": "code",
   "execution_count": 195,
   "metadata": {},
   "outputs": [
    {
     "data": {
      "text/plain": [
       "<matplotlib.axes._subplots.AxesSubplot at 0x7fda87753410>"
      ]
     },
     "execution_count": 195,
     "metadata": {},
     "output_type": "execute_result"
    },
    {
     "data": {
      "image/png": "[encoded data removed]",
      "text/plain": [
       "<Figure size 432x288 with 1 Axes>"
      ]
     },
     "metadata": {
      "needs_background": "light"
     },
     "output_type": "display_data"
    }
   ],
   "source": [
    "sns.distplot(test_3['pos'])"
   ]
  },
  {
   "cell_type": "code",
   "execution_count": null,
   "metadata": {},
   "outputs": [],
   "source": []
  }
 ],
 "metadata": {
  "kernelspec": {
   "display_name": "Python 3",
   "language": "python",
   "name": "python3"
  },
  "language_info": {
   "codemirror_mode": {
    "name": "ipython",
    "version": 3
   },
   "file_extension": ".py",
   "mimetype": "text/x-python",
   "name": "python",
   "nbconvert_exporter": "python",
   "pygments_lexer": "ipython3",
   "version": "3.7.6"
  }
 },
 "nbformat": 4,
 "nbformat_minor": 4
}
